{
 "cells": [
  {
   "cell_type": "code",
   "execution_count": 1,
   "metadata": {},
   "outputs": [],
   "source": [
    "import torch\n",
    "from torchvision import datasets, transforms\n",
    "import numpy as np\n",
    "import matplotlib.pyplot as plt\n",
    "import torch.nn as nn\n",
    "import torch.nn.functional as F\n",
    "import torch.nn.init as init"
   ]
  },
  {
   "cell_type": "code",
   "execution_count": 2,
   "metadata": {},
   "outputs": [],
   "source": [
    "torch.manual_seed(42)\n",
    "np.random.seed(42)"
   ]
  },
  {
   "cell_type": "code",
   "execution_count": 3,
   "metadata": {},
   "outputs": [],
   "source": [
    "transform = transforms.Compose([transforms.ToTensor(), transforms.Normalize((0.5,), (0.5,))])\n",
    "trainset = datasets.MNIST('~/.pytorch/MNIST_data/', download=True, train=True, transform=transform)\n",
    "trainloader = torch.utils.data.DataLoader(trainset, batch_size=64, shuffle=True)\n",
    "testset = datasets.MNIST('~/.pytorch/MNIST_data/', download=True, train=False, transform=transform)\n",
    "testloader = torch.utils.data.DataLoader(testset, batch_size=64, shuffle=False)\n"
   ]
  },
  {
   "cell_type": "markdown",
   "metadata": {},
   "source": [
    "#### a) all weights initialized to 0"
   ]
  },
  {
   "cell_type": "code",
   "execution_count": 4,
   "metadata": {},
   "outputs": [],
   "source": [
    "class PyTorchNN_zero(nn.Module):\n",
    "    def __init__(self, input_dim, hidden_dim, output_dim):\n",
    "        super(PyTorchNN_zero, self).__init__()\n",
    "        self.fc1 = nn.Linear(input_dim, hidden_dim)\n",
    "        self.fc2 = nn.Linear(hidden_dim, output_dim)\n",
    "        self.fc1.weight.data = torch.zeros_like(self.fc1.weight.data)\n",
    "        self.fc2.weight.data = torch.zeros_like(self.fc2.weight.data)\n",
    "\n",
    "    def forward(self, x):\n",
    "        x = torch.sigmoid(self.fc1(x))\n",
    "        x = F.softmax(self.fc2(x), dim=1)\n",
    "        return x"
   ]
  },
  {
   "cell_type": "code",
   "execution_count": 5,
   "metadata": {},
   "outputs": [],
   "source": [
    "def model_test_torch(model_torch, dataset=testloader):\n",
    "    correct_test = 0\n",
    "    total_test = 0\n",
    "    total_loss = 0\n",
    "    for images, labels in dataset:\n",
    "        images = images.view(images.shape[0], -1)\n",
    "        outputs = model_torch.forward(images)\n",
    "        predicted = torch.argmax(outputs, dim=1)\n",
    "        total_test += labels.size(0)\n",
    "        correct_test += (predicted == labels).sum().item()\n",
    "        total_loss += criterion(outputs, labels).item()\n",
    "    test_accuracy = correct_test / total_test\n",
    "    test_error = 1 - test_accuracy\n",
    "    # print(f\"Accuracy: {100 * test_accuracy}%, Test Error: {100 * test_error}%\")\n",
    "    total_loss = total_loss/len(dataset)\n",
    "    return test_error, total_loss"
   ]
  },
  {
   "cell_type": "code",
   "execution_count": 6,
   "metadata": {},
   "outputs": [
    {
     "name": "stdout",
     "output_type": "stream",
     "text": [
      "Epoch 1, Loss: 2.299794164547788, Test Loss: 2.2946112049613028, Test Error: 88.64999999999999%\n",
      "Epoch 2, Loss: 2.271259960335201, Test Loss: 2.2241172501995305, Test Error: 82.01%\n",
      "Epoch 3, Loss: 2.1830328486875685, Test Loss: 2.1144782570516987, Test Error: 63.349999999999994%\n",
      "Epoch 4, Loss: 2.0486719138078344, Test Loss: 2.0057259532296734, Test Error: 54.83%\n",
      "Epoch 5, Loss: 1.9318987377671037, Test Loss: 1.8632385624442132, Test Error: 35.629999999999995%\n",
      "Epoch 6, Loss: 1.8127479565931535, Test Loss: 1.7650460498348164, Test Error: 27.280000000000005%\n",
      "Epoch 7, Loss: 1.7456408750527956, Test Loss: 1.7328230233708763, Test Error: 25.5%\n",
      "Epoch 8, Loss: 1.726381216857479, Test Loss: 1.7219357741106847, Test Error: 25.129999999999995%\n",
      "Epoch 9, Loss: 1.7179431588665, Test Loss: 1.7153402931371313, Test Error: 24.61%\n",
      "Epoch 10, Loss: 1.7125911421613145, Test Loss: 1.709980639682454, Test Error: 24.3%\n",
      "Epoch 11, Loss: 1.682204111552696, Test Loss: 1.6508855515984213, Test Error: 17.42%\n",
      "Epoch 12, Loss: 1.6446479785162758, Test Loss: 1.6347352813003928, Test Error: 16.21%\n",
      "Epoch 13, Loss: 1.6339681482772583, Test Loss: 1.6265935351134866, Test Error: 15.559999999999995%\n",
      "Epoch 14, Loss: 1.628546749986311, Test Loss: 1.623571210606083, Test Error: 15.239999999999998%\n",
      "Epoch 15, Loss: 1.6250726604766683, Test Loss: 1.6199576983785933, Test Error: 15.100000000000001%\n",
      "Epoch 16, Loss: 1.6223372902188982, Test Loss: 1.6179107708536136, Test Error: 14.890000000000004%\n",
      "Epoch 17, Loss: 1.6201287546137502, Test Loss: 1.6170024142903128, Test Error: 14.91%\n",
      "Epoch 18, Loss: 1.6182324832944728, Test Loss: 1.6143101696755475, Test Error: 14.62%\n",
      "Epoch 19, Loss: 1.6091875564823273, Test Loss: 1.5878279429332467, Test Error: 10.88%\n",
      "Epoch 20, Loss: 1.5741699608658422, Test Loss: 1.567085266872576, Test Error: 9.219999999999995%\n",
      "Epoch 21, Loss: 1.5626418515563265, Test Loss: 1.5589675789426087, Test Error: 8.599999999999996%\n",
      "Epoch 22, Loss: 1.5571042660202807, Test Loss: 1.553056413960305, Test Error: 8.05%\n",
      "Epoch 23, Loss: 1.5530510014816643, Test Loss: 1.5502731207829372, Test Error: 7.809999999999995%\n",
      "Epoch 24, Loss: 1.5498445722848369, Test Loss: 1.5471146698969944, Test Error: 7.499999999999996%\n",
      "Epoch 25, Loss: 1.5472767224698178, Test Loss: 1.54527724244792, Test Error: 7.4100000000000055%\n",
      "Epoch 26, Loss: 1.5449842538660779, Test Loss: 1.5423922774138723, Test Error: 7.220000000000004%\n",
      "Epoch 27, Loss: 1.5427469805613765, Test Loss: 1.54204973217788, Test Error: 7.299999999999995%\n",
      "Epoch 28, Loss: 1.5409057325899982, Test Loss: 1.54018556160532, Test Error: 7.0699999999999985%\n",
      "Epoch 29, Loss: 1.539198792438263, Test Loss: 1.5388227465805735, Test Error: 6.869999999999998%\n",
      "Epoch 30, Loss: 1.5376111879023409, Test Loss: 1.5363988678926115, Test Error: 6.730000000000002%\n",
      "Epoch 31, Loss: 1.5358192330992806, Test Loss: 1.5366692391170818, Test Error: 6.810000000000005%\n",
      "Epoch 32, Loss: 1.5343332084765566, Test Loss: 1.5348439725341312, Test Error: 6.530000000000003%\n",
      "Epoch 33, Loss: 1.5332300538447365, Test Loss: 1.5331529325740352, Test Error: 6.459999999999999%\n",
      "Epoch 34, Loss: 1.5318537950515747, Test Loss: 1.5322389549510493, Test Error: 6.389999999999995%\n",
      "Epoch 35, Loss: 1.5306354726809683, Test Loss: 1.5313378253560157, Test Error: 6.320000000000004%\n",
      "Epoch 36, Loss: 1.5294193536487979, Test Loss: 1.531010895018365, Test Error: 6.320000000000004%\n",
      "Epoch 37, Loss: 1.528379023583459, Test Loss: 1.5291660112939822, Test Error: 6.220000000000003%\n",
      "Epoch 38, Loss: 1.5273461790481355, Test Loss: 1.528745689209859, Test Error: 6.169999999999998%\n",
      "Epoch 39, Loss: 1.5263336968066088, Test Loss: 1.5285026055232735, Test Error: 6.2000000000000055%\n",
      "Epoch 40, Loss: 1.5254350757039685, Test Loss: 1.5273494621750656, Test Error: 5.979999999999997%\n",
      "Epoch 41, Loss: 1.5245165239010792, Test Loss: 1.526425580310214, Test Error: 5.9200000000000035%\n",
      "Epoch 42, Loss: 1.5235658360442628, Test Loss: 1.5253637824088904, Test Error: 5.869999999999997%\n",
      "Epoch 43, Loss: 1.522597770828174, Test Loss: 1.5247173347290914, Test Error: 5.789999999999996%\n",
      "Epoch 44, Loss: 1.5217700376947805, Test Loss: 1.524308790067199, Test Error: 5.679999999999996%\n",
      "Epoch 45, Loss: 1.5209682620664648, Test Loss: 1.5240664087283384, Test Error: 5.679999999999996%\n",
      "Epoch 46, Loss: 1.5202552681284418, Test Loss: 1.5234563373456336, Test Error: 5.5799999999999965%\n",
      "Epoch 47, Loss: 1.5194856726538652, Test Loss: 1.5231003381644086, Test Error: 5.530000000000001%\n",
      "Epoch 48, Loss: 1.518790543206465, Test Loss: 1.5216730483777963, Test Error: 5.4300000000000015%\n",
      "Epoch 49, Loss: 1.5179898713443325, Test Loss: 1.5212826128977879, Test Error: 5.479999999999996%\n",
      "Epoch 50, Loss: 1.5173014179984134, Test Loss: 1.5212200887643608, Test Error: 5.420000000000003%\n"
     ]
    }
   ],
   "source": [
    "learning_rate = 0.1\n",
    "epochs = 50\n",
    "input_dim = 28*28\n",
    "hidden_dim = 300\n",
    "output_dim = 10\n",
    "\n",
    "model_torch = PyTorchNN_zero(input_dim, hidden_dim, output_dim)\n",
    "criterion = nn.CrossEntropyLoss()\n",
    "optimizer = torch.optim.SGD(model_torch.parameters(), lr=learning_rate)\n",
    "\n",
    "training_losses_torch = []\n",
    "test_losses_torch = []\n",
    "test_errors_torch = []\n",
    "for epoch in range(epochs):\n",
    "    total_loss = 0\n",
    "    for images, labels in trainloader:\n",
    "        images = images.view(images.shape[0], -1)\n",
    "        optimizer.zero_grad()\n",
    "\n",
    "        outputs = model_torch(images)\n",
    "        loss = criterion(outputs, labels)\n",
    "\n",
    "        loss.backward()\n",
    "        optimizer.step()\n",
    "\n",
    "        total_loss += loss.item()\n",
    "    training_losses_torch.append(total_loss/len(trainloader))\n",
    "    test_error_torch, total_loss_torch = model_test_torch(model_torch)\n",
    "    test_losses_torch.append(total_loss_torch)\n",
    "    test_errors_torch.append(test_error_torch)\n",
    "    print(f\"Epoch {epoch+1}, Loss: {training_losses_torch[-1]}, Test Loss: {test_losses_torch[-1]}, Test Error: {100 * test_error_torch}%\")\n"
   ]
  },
  {
   "cell_type": "code",
   "execution_count": 7,
   "metadata": {},
   "outputs": [
    {
     "name": "stdout",
     "output_type": "stream",
     "text": [
      "Accuracy: 94.58%, Test Error: 5.420000000000003%\n"
     ]
    }
   ],
   "source": [
    "correct_test = 0\n",
    "total_test = 0\n",
    "with torch.no_grad():\n",
    "    for images, labels in testloader:\n",
    "        images = images.view(images.shape[0], -1)\n",
    "        outputs = model_torch.forward(images)\n",
    "        predicted = torch.argmax(outputs, dim=1)\n",
    "        total_test += labels.size(0)\n",
    "        correct_test += (predicted == labels).sum().item()\n",
    "test_accuracy = correct_test / total_test\n",
    "test_error = 1 - test_accuracy\n",
    "\n",
    "print(f\"Accuracy: {100 * test_accuracy}%, Test Error: {100 * test_error}%\")"
   ]
  },
  {
   "cell_type": "code",
   "execution_count": 8,
   "metadata": {},
   "outputs": [
    {
     "data": {
      "image/png": "[encoded data removed]",
      "text/plain": [
       "<Figure size 576x360 with 1 Axes>"
      ]
     },
     "metadata": {
      "needs_background": "light"
     },
     "output_type": "display_data"
    }
   ],
   "source": [
    "fig1 = plt.figure(figsize=(8, 5))\n",
    "plt.plot(training_losses_torch, marker='x', label=\"Training Loss\", color=\"blue\")\n",
    "plt.plot(test_losses_torch, marker='x', label=\"Test Loss\", color=\"red\")\n",
    "plt.xlabel(\"Epochs\")\n",
    "plt.ylabel(\"Loss\")\n",
    "plt.title(\"Learning Curve\")\n",
    "plt.legend()\n",
    "plt.grid(True)\n",
    "plt.show()\n",
    "fig1.savefig('learning_curve_torch_zero_weight.png', dpi=300)"
   ]
  },
  {
   "cell_type": "code",
   "execution_count": 9,
   "metadata": {},
   "outputs": [
    {
     "data": {
      "image/png": "[encoded data removed]",
      "text/plain": [
       "<Figure size 576x360 with 1 Axes>"
      ]
     },
     "metadata": {
      "needs_background": "light"
     },
     "output_type": "display_data"
    }
   ],
   "source": [
    "fig11 = plt.figure(figsize=(8, 5))\n",
    "plt.plot(100*np.array(test_errors_torch), marker='x', label=\"Test Loss\", color=\"red\")\n",
    "plt.xlabel(\"Epochs\")\n",
    "plt.ylabel(\"Error Rate (%)\")\n",
    "plt.title(\"Test Error\")\n",
    "plt.legend()\n",
    "plt.grid(True)\n",
    "plt.show()\n",
    "fig11.savefig('test_error_torch_zero_weight.png', dpi=300)"
   ]
  },
  {
   "cell_type": "markdown",
   "metadata": {},
   "source": [
    "#### b) initialize the weights randomly between -1 and 1"
   ]
  },
  {
   "cell_type": "code",
   "execution_count": 52,
   "metadata": {},
   "outputs": [],
   "source": [
    "class PyTorchNN_unif(nn.Module):\n",
    "    def __init__(self, input_dim, hidden_dim, output_dim):\n",
    "        super(PyTorchNN_unif, self).__init__()\n",
    "        self.fc1 = nn.Linear(input_dim, hidden_dim)\n",
    "        self.fc2 = nn.Linear(hidden_dim, output_dim)\n",
    "        init.uniform_(self.fc1.weight, -1, 1)\n",
    "        init.uniform_(self.fc2.weight, -1, 1)\n",
    "\n",
    "    def forward(self, x):\n",
    "        x = torch.sigmoid(self.fc1(x))\n",
    "        x = F.softmax(self.fc2(x), dim=1)\n",
    "        return x"
   ]
  },
  {
   "cell_type": "code",
   "execution_count": 53,
   "metadata": {},
   "outputs": [],
   "source": [
    "def model_test_torch(model_torch, dataset=testloader):\n",
    "    correct_test = 0\n",
    "    total_test = 0\n",
    "    total_loss = 0\n",
    "    for images, labels in dataset:\n",
    "        images = images.view(images.shape[0], -1)\n",
    "        outputs = model_torch.forward(images)\n",
    "        predicted = torch.argmax(outputs, dim=1)\n",
    "        total_test += labels.size(0)\n",
    "        correct_test += (predicted == labels).sum().item()\n",
    "        total_loss += criterion(outputs, labels).item()\n",
    "    test_accuracy = correct_test / total_test\n",
    "    test_error = 1 - test_accuracy\n",
    "    # print(f\"Accuracy: {100 * test_accuracy}%, Test Error: {100 * test_error}%\")\n",
    "    total_loss = total_loss/len(dataset)\n",
    "    return test_error, total_loss"
   ]
  },
  {
   "cell_type": "code",
   "execution_count": 55,
   "metadata": {},
   "outputs": [
    {
     "name": "stdout",
     "output_type": "stream",
     "text": [
      "Epoch 1, Loss: 2.045471073849115, Test Loss: 1.91181712697266, Test Error: 44.45%\n",
      "Epoch 2, Loss: 1.8747552551948694, Test Loss: 1.8471718996193758, Test Error: 38.480000000000004%\n",
      "Epoch 3, Loss: 1.8382359730409408, Test Loss: 1.8288984670760526, Test Error: 36.58%\n",
      "Epoch 4, Loss: 1.8227819591951269, Test Loss: 1.8182858881677033, Test Error: 35.699999999999996%\n",
      "Epoch 5, Loss: 1.8140054614559165, Test Loss: 1.8117970995082977, Test Error: 35.029999999999994%\n",
      "Epoch 6, Loss: 1.8081860163572754, Test Loss: 1.8069359314669469, Test Error: 34.46%\n",
      "Epoch 7, Loss: 1.8035016997790794, Test Loss: 1.8018077619516166, Test Error: 34.0%\n",
      "Epoch 8, Loss: 1.779781551757601, Test Loss: 1.750109642933888, Test Error: 28.110000000000003%\n",
      "Epoch 9, Loss: 1.734219117967813, Test Loss: 1.6998353528369003, Test Error: 22.819999999999997%\n",
      "Epoch 10, Loss: 1.6751537784330373, Test Loss: 1.6612184639948948, Test Error: 19.179999999999996%\n",
      "Epoch 11, Loss: 1.6546749471347215, Test Loss: 1.6496587202047845, Test Error: 18.020000000000003%\n",
      "Epoch 12, Loss: 1.6448161655397557, Test Loss: 1.6428548226690596, Test Error: 17.500000000000004%\n",
      "Epoch 13, Loss: 1.6383864537739297, Test Loss: 1.6379320219064215, Test Error: 16.990000000000006%\n",
      "Epoch 14, Loss: 1.6337516936920344, Test Loss: 1.6348883498246503, Test Error: 16.779999999999994%\n",
      "Epoch 15, Loss: 1.6300055113936793, Test Loss: 1.6318548112917857, Test Error: 16.51%\n",
      "Epoch 16, Loss: 1.6270176904287927, Test Loss: 1.6299168699106592, Test Error: 16.390000000000004%\n",
      "Epoch 17, Loss: 1.6243362172580222, Test Loss: 1.6281479035213495, Test Error: 16.090000000000003%\n",
      "Epoch 18, Loss: 1.6221355833986928, Test Loss: 1.6257377498468775, Test Error: 15.910000000000002%\n",
      "Epoch 19, Loss: 1.6200791064864282, Test Loss: 1.6246338862522391, Test Error: 15.890000000000004%\n",
      "Epoch 20, Loss: 1.618268399731691, Test Loss: 1.6231325986279044, Test Error: 15.700000000000003%\n",
      "Epoch 21, Loss: 1.616603570325034, Test Loss: 1.6217134249438145, Test Error: 15.610000000000001%\n",
      "Epoch 22, Loss: 1.615047637841849, Test Loss: 1.6207426763643884, Test Error: 15.559999999999995%\n",
      "Epoch 23, Loss: 1.6137008053153308, Test Loss: 1.6198794135622159, Test Error: 15.490000000000004%\n",
      "Epoch 24, Loss: 1.6124182358733627, Test Loss: 1.618806725854327, Test Error: 15.380000000000004%\n",
      "Epoch 25, Loss: 1.6110905791396526, Test Loss: 1.6179548782907474, Test Error: 15.32%\n",
      "Epoch 26, Loss: 1.6098816788781172, Test Loss: 1.617371434618713, Test Error: 15.32%\n",
      "Epoch 27, Loss: 1.6088235380807157, Test Loss: 1.616338965999093, Test Error: 15.180000000000005%\n",
      "Epoch 28, Loss: 1.6077297526890282, Test Loss: 1.6159281730651855, Test Error: 15.129999999999999%\n",
      "Epoch 29, Loss: 1.606760666187384, Test Loss: 1.6146701468024285, Test Error: 14.990000000000004%\n",
      "Epoch 30, Loss: 1.6058332865426281, Test Loss: 1.614320467991434, Test Error: 14.939999999999998%\n",
      "Epoch 31, Loss: 1.6049197987198576, Test Loss: 1.6138207251858558, Test Error: 14.849999999999996%\n",
      "Epoch 32, Loss: 1.6041401446755252, Test Loss: 1.6132796987606461, Test Error: 14.890000000000004%\n",
      "Epoch 33, Loss: 1.6033268788221802, Test Loss: 1.6128021805149735, Test Error: 14.800000000000002%\n",
      "Epoch 34, Loss: 1.6024028921940687, Test Loss: 1.6121672118545338, Test Error: 14.719999999999999%\n",
      "Epoch 35, Loss: 1.6017650026502386, Test Loss: 1.6116575564548468, Test Error: 14.639999999999997%\n",
      "Epoch 36, Loss: 1.6010627403442286, Test Loss: 1.6111526177946929, Test Error: 14.659999999999995%\n",
      "Epoch 37, Loss: 1.6002787035157178, Test Loss: 1.6105296368811541, Test Error: 14.52%\n",
      "Epoch 38, Loss: 1.5995715378698256, Test Loss: 1.6103696306799626, Test Error: 14.62%\n",
      "Epoch 39, Loss: 1.5989911416446223, Test Loss: 1.6096488351275207, Test Error: 14.470000000000006%\n",
      "Epoch 40, Loss: 1.5983527065085958, Test Loss: 1.6093586698459212, Test Error: 14.41%\n",
      "Epoch 41, Loss: 1.5977107560965045, Test Loss: 1.6096122636916532, Test Error: 14.449999999999996%\n",
      "Epoch 42, Loss: 1.597096202470092, Test Loss: 1.6086736522662413, Test Error: 14.429999999999998%\n",
      "Epoch 43, Loss: 1.5964533905230605, Test Loss: 1.6084201791483885, Test Error: 14.429999999999998%\n",
      "Epoch 44, Loss: 1.595868338781125, Test Loss: 1.607822252686616, Test Error: 14.290000000000003%\n",
      "Epoch 45, Loss: 1.5954436667438254, Test Loss: 1.6075048765559106, Test Error: 14.390000000000002%\n",
      "Epoch 46, Loss: 1.5949519468523037, Test Loss: 1.6069182742173505, Test Error: 14.280000000000005%\n",
      "Epoch 47, Loss: 1.594428566473125, Test Loss: 1.6068190062881276, Test Error: 14.280000000000005%\n",
      "Epoch 48, Loss: 1.5938881565767056, Test Loss: 1.6063770564498416, Test Error: 14.239999999999997%\n",
      "Epoch 49, Loss: 1.5934909401671973, Test Loss: 1.6065784882587992, Test Error: 14.219999999999999%\n",
      "Epoch 50, Loss: 1.5929574937200242, Test Loss: 1.6057557664859068, Test Error: 14.21%\n"
     ]
    }
   ],
   "source": [
    "learning_rate = 0.1\n",
    "epochs = 50\n",
    "input_dim = 28*28\n",
    "hidden_dim = 300\n",
    "output_dim = 10\n",
    "\n",
    "model_torch = PyTorchNN_unif(input_dim, hidden_dim, output_dim)\n",
    "criterion = nn.CrossEntropyLoss()\n",
    "optimizer = torch.optim.SGD(model_torch.parameters(), lr=learning_rate)\n",
    "\n",
    "training_losses_torch = []\n",
    "test_losses_torch = []\n",
    "test_errors_torch = []\n",
    "for epoch in range(epochs):\n",
    "    total_loss = 0\n",
    "    for images, labels in trainloader:\n",
    "        images = images.view(images.shape[0], -1)\n",
    "        optimizer.zero_grad()\n",
    "\n",
    "        outputs = model_torch(images)\n",
    "        loss = criterion(outputs, labels)\n",
    "\n",
    "        loss.backward()\n",
    "        optimizer.step()\n",
    "\n",
    "        total_loss += loss.item()\n",
    "    training_losses_torch.append(total_loss/len(trainloader))\n",
    "    test_error_torch, total_loss_torch = model_test_torch(model_torch)\n",
    "    test_losses_torch.append(total_loss_torch)\n",
    "    test_errors_torch.append(test_error_torch)\n",
    "    print(f\"Epoch {epoch+1}, Loss: {training_losses_torch[-1]}, Test Loss: {test_losses_torch[-1]}, Test Error: {100 * test_error_torch}%\")\n"
   ]
  },
  {
   "cell_type": "code",
   "execution_count": 56,
   "metadata": {},
   "outputs": [
    {
     "name": "stdout",
     "output_type": "stream",
     "text": [
      "Accuracy: 85.79%, Test Error: 14.21%\n"
     ]
    }
   ],
   "source": [
    "correct_test = 0\n",
    "total_test = 0\n",
    "with torch.no_grad():\n",
    "    for images, labels in testloader:\n",
    "        images = images.view(images.shape[0], -1)\n",
    "        outputs = model_torch.forward(images)\n",
    "        predicted = torch.argmax(outputs, dim=1)\n",
    "        total_test += labels.size(0)\n",
    "        correct_test += (predicted == labels).sum().item()\n",
    "test_accuracy = correct_test / total_test\n",
    "test_error = 1 - test_accuracy\n",
    "\n",
    "print(f\"Accuracy: {100 * test_accuracy}%, Test Error: {100 * test_error}%\")"
   ]
  },
  {
   "cell_type": "code",
   "execution_count": 59,
   "metadata": {},
   "outputs": [
    {
     "data": {
      "image/png": "[encoded data removed]",
      "text/plain": [
       "<Figure size 576x360 with 1 Axes>"
      ]
     },
     "metadata": {
      "needs_background": "light"
     },
     "output_type": "display_data"
    }
   ],
   "source": [
    "fig2 = plt.figure(figsize=(8, 5))\n",
    "plt.plot(training_losses_torch, marker='x', label=\"Training Loss\", color=\"blue\")\n",
    "plt.plot(test_losses_torch, marker='x', label=\"Test Loss\", color=\"red\")\n",
    "plt.xlabel(\"Epochs\")\n",
    "plt.ylabel(\"Loss\")\n",
    "plt.title(\"Learning Curve\")\n",
    "plt.legend()\n",
    "plt.grid(True)\n",
    "plt.show()\n",
    "fig2.savefig('learning_curve_torch_uniform_weight.png', dpi=300)"
   ]
  },
  {
   "cell_type": "code",
   "execution_count": 60,
   "metadata": {},
   "outputs": [
    {
     "data": {
      "image/png": "[encoded data removed]",
      "text/plain": [
       "<Figure size 576x360 with 1 Axes>"
      ]
     },
     "metadata": {
      "needs_background": "light"
     },
     "output_type": "display_data"
    }
   ],
   "source": [
    "fig22 = plt.figure(figsize=(8, 5))\n",
    "plt.plot(100*np.array(test_errors_torch), marker='x', label=\"Test Loss\", color=\"red\")\n",
    "plt.xlabel(\"Epochs\")\n",
    "plt.ylabel(\"Error Rate (%)\")\n",
    "plt.title(\"Test Error\")\n",
    "plt.legend()\n",
    "plt.grid(True)\n",
    "plt.show()\n",
    "fig22.savefig('test_error_torch_uniform_weight.png', dpi=300)"
   ]
  },
  {
   "cell_type": "code",
   "execution_count": null,
   "metadata": {},
   "outputs": [],
   "source": []
  }
 ],
 "metadata": {
  "kernelspec": {
   "display_name": "base",
   "language": "python",
   "name": "python3"
  },
  "language_info": {
   "codemirror_mode": {
    "name": "ipython",
    "version": 3
   },
   "file_extension": ".py",
   "mimetype": "text/x-python",
   "name": "python",
   "nbconvert_exporter": "python",
   "pygments_lexer": "ipython3",
   "version": "3.7.5"
  }
 },
 "nbformat": 4,
 "nbformat_minor": 2
}
