{
 "cells": [
  {
   "cell_type": "code",
   "execution_count": 1,
   "metadata": {},
   "outputs": [],
   "source": [
    "import torch\n",
    "from torchvision import datasets, transforms\n",
    "import numpy as np\n",
    "import matplotlib.pyplot as plt\n",
    "import torch.nn as nn\n",
    "import torch.nn.functional as F"
   ]
  },
  {
   "cell_type": "code",
   "execution_count": 2,
   "metadata": {},
   "outputs": [],
   "source": [
    "torch.manual_seed(42)\n",
    "np.random.seed(42)"
   ]
  },
  {
   "cell_type": "markdown",
   "metadata": {},
   "source": [
    "#### Q4 (2)"
   ]
  },
  {
   "cell_type": "code",
   "execution_count": 3,
   "metadata": {},
   "outputs": [],
   "source": [
    "transform = transforms.Compose([transforms.ToTensor(), transforms.Normalize((0.5,), (0.5,))])\n",
    "trainset = datasets.MNIST('~/.pytorch/MNIST_data/', download=True, train=True, transform=transform)\n",
    "trainloader = torch.utils.data.DataLoader(trainset, batch_size=64, shuffle=True)\n",
    "testset = datasets.MNIST('~/.pytorch/MNIST_data/', download=True, train=False, transform=transform)\n",
    "testloader = torch.utils.data.DataLoader(testset, batch_size=64, shuffle=False)\n"
   ]
  },
  {
   "cell_type": "code",
   "execution_count": 4,
   "metadata": {},
   "outputs": [],
   "source": [
    "def sigmoid(x):\n",
    "    return 1.0 / (1.0 + torch.exp(-x))\n",
    "\n",
    "def softmax(x):\n",
    "    return torch.exp(x) / torch.sum(torch.exp(x), dim=0)\n",
    "\n",
    "def cross_entropy(preds, targets):\n",
    "    return -torch.sum(targets * torch.log(preds))"
   ]
  },
  {
   "cell_type": "code",
   "execution_count": 19,
   "metadata": {},
   "outputs": [],
   "source": [
    "class NN:\n",
    "    def __init__(self, input_dim, hidden_dim, output_dim):\n",
    "        self.W1 = torch.randn(hidden_dim, input_dim) * 0.01\n",
    "        self.W2 = torch.randn(output_dim, hidden_dim) * 0.01\n",
    "\n",
    "    def forward(self, x):\n",
    "        self.z1 = self.W1 @ x\n",
    "        self.a1 = torch.sigmoid(self.z1)\n",
    "        self.z2 = self.W2 @ self.a1\n",
    "        self.y_hat = torch.nn.functional.softmax(self.z2, dim=0)\n",
    "        return self.y_hat\n",
    "\n",
    "    def backward(self, x, y, learning_rate=0.01):\n",
    "        m = x.shape[1]\n",
    "\n",
    "        dz2 = self.y_hat - y\n",
    "        dW2 = dz2 @ self.a1.t() / m\n",
    "\n",
    "        da1 = self.W2.t() @ dz2\n",
    "        dz1 = da1 * self.a1 * (1 - self.a1)\n",
    "        dW1 = dz1 @ x.t() / m\n",
    "\n",
    "        self.W1 -= learning_rate * dW1\n",
    "        self.W2 -= learning_rate * dW2\n"
   ]
  },
  {
   "cell_type": "code",
   "execution_count": 20,
   "metadata": {},
   "outputs": [],
   "source": [
    "def model_test(model, dataset=testloader):\n",
    "    correct_test = 0\n",
    "    total_test = 0\n",
    "    total_loss = 0\n",
    "    for images, labels in dataset:\n",
    "        images = images.view(images.shape[0], -1).t()\n",
    "        labels_ = torch.eye(10)[:, labels]\n",
    "        outputs = model.forward(images)\n",
    "        predicted = torch.argmax(outputs, dim=0)\n",
    "        total_test += labels.size(0)\n",
    "        correct_test += (predicted == labels).sum().item()\n",
    "        total_loss += cross_entropy(outputs, labels_)\n",
    "    test_accuracy = correct_test / total_test\n",
    "    test_error = 1 - test_accuracy\n",
    "    # print(f\"Accuracy: {100 * test_accuracy}%, Test Error: {100 * test_error}%\")\n",
    "    total_loss = total_loss/len(dataset)\n",
    "    return test_error, total_loss\n"
   ]
  },
  {
   "cell_type": "code",
   "execution_count": 21,
   "metadata": {},
   "outputs": [
    {
     "name": "stdout",
     "output_type": "stream",
     "text": [
      "Epoch 1, Loss: 46.525045810731996, Test Loss: 21.8806209564209, Test Error: 9.950000000000003%\n",
      "Epoch 2, Loss: 21.033095035979997, Test Loss: 18.991453170776367, Test Error: 8.940000000000003%\n",
      "Epoch 3, Loss: 18.116923048297988, Test Loss: 16.4254150390625, Test Error: 7.599999999999996%\n",
      "Epoch 4, Loss: 15.962472803811275, Test Loss: 14.434486389160156, Test Error: 6.689999999999996%\n",
      "Epoch 5, Loss: 14.150173857776341, Test Loss: 13.958792686462402, Test Error: 6.65%\n",
      "Epoch 6, Loss: 12.618403505668965, Test Loss: 12.146477699279785, Test Error: 5.5899999999999945%\n",
      "Epoch 7, Loss: 11.366825698789503, Test Loss: 11.393756866455078, Test Error: 5.410000000000004%\n",
      "Epoch 8, Loss: 10.334945669560545, Test Loss: 9.750157356262207, Test Error: 4.579999999999995%\n",
      "Epoch 9, Loss: 9.40829483951841, Test Loss: 9.167195320129395, Test Error: 4.300000000000004%\n",
      "Epoch 10, Loss: 8.675771314706376, Test Loss: 8.630681037902832, Test Error: 3.949999999999998%\n",
      "Epoch 11, Loss: 8.01259380019804, Test Loss: 8.577917098999023, Test Error: 3.939999999999999%\n",
      "Epoch 12, Loss: 7.480334356395421, Test Loss: 7.878256320953369, Test Error: 3.600000000000003%\n",
      "Epoch 13, Loss: 6.9938046438480495, Test Loss: 7.455180644989014, Test Error: 3.420000000000001%\n",
      "Epoch 14, Loss: 6.5440100340573775, Test Loss: 7.284862995147705, Test Error: 3.4499999999999975%\n",
      "Epoch 15, Loss: 6.140203373645669, Test Loss: 6.736629962921143, Test Error: 3.2399999999999984%\n",
      "Epoch 16, Loss: 5.793850159784879, Test Loss: 6.467115879058838, Test Error: 3.0200000000000005%\n",
      "Epoch 17, Loss: 5.468058048725637, Test Loss: 6.186524391174316, Test Error: 2.9000000000000026%\n",
      "Epoch 18, Loss: 5.199498997886043, Test Loss: 6.138311862945557, Test Error: 2.880000000000005%\n",
      "Epoch 19, Loss: 4.947060540667983, Test Loss: 5.983659744262695, Test Error: 2.9100000000000015%\n",
      "Epoch 20, Loss: 4.661482310816169, Test Loss: 5.6756062507629395, Test Error: 2.8200000000000003%\n",
      "Epoch 21, Loss: 4.4620648280643955, Test Loss: 5.736326217651367, Test Error: 2.7800000000000047%\n",
      "Epoch 22, Loss: 4.235428724207604, Test Loss: 5.390758037567139, Test Error: 2.6599999999999957%\n",
      "Epoch 23, Loss: 4.068852011265276, Test Loss: 5.242996692657471, Test Error: 2.4900000000000033%\n",
      "Epoch 24, Loss: 3.869203486009193, Test Loss: 5.2651166915893555, Test Error: 2.5900000000000034%\n",
      "Epoch 25, Loss: 3.6986070456408235, Test Loss: 5.017247200012207, Test Error: 2.5900000000000034%\n",
      "Epoch 26, Loss: 3.5515231858057255, Test Loss: 5.555903911590576, Test Error: 2.6800000000000046%\n",
      "Epoch 27, Loss: 3.4002998818530203, Test Loss: 4.98463249206543, Test Error: 2.400000000000002%\n",
      "Epoch 28, Loss: 3.2689477454688247, Test Loss: 4.818602561950684, Test Error: 2.410000000000001%\n",
      "Epoch 29, Loss: 3.135372710062751, Test Loss: 5.034517288208008, Test Error: 2.4399999999999977%\n",
      "Epoch 30, Loss: 3.0184473756279773, Test Loss: 4.798910617828369, Test Error: 2.3499999999999965%\n",
      "Epoch 31, Loss: 2.885142086601969, Test Loss: 5.038426399230957, Test Error: 2.429999999999999%\n",
      "Epoch 32, Loss: 2.7730861792305133, Test Loss: 4.438864231109619, Test Error: 2.2800000000000042%\n",
      "Epoch 33, Loss: 2.6844724362084604, Test Loss: 4.650681972503662, Test Error: 2.3700000000000054%\n",
      "Epoch 34, Loss: 2.5833268173372566, Test Loss: 4.637405872344971, Test Error: 2.400000000000002%\n",
      "Epoch 35, Loss: 2.4829040253276764, Test Loss: 4.451910495758057, Test Error: 2.2299999999999986%\n",
      "Epoch 36, Loss: 2.387004959335459, Test Loss: 4.306520462036133, Test Error: 2.190000000000003%\n",
      "Epoch 37, Loss: 2.3051764744717174, Test Loss: 4.346312046051025, Test Error: 2.190000000000003%\n",
      "Epoch 38, Loss: 2.2089602568192777, Test Loss: 4.3468122482299805, Test Error: 2.2399999999999975%\n",
      "Epoch 39, Loss: 2.132844962084344, Test Loss: 4.239465713500977, Test Error: 2.210000000000001%\n",
      "Epoch 40, Loss: 2.070199586498712, Test Loss: 4.1802873611450195, Test Error: 2.1700000000000053%\n",
      "Epoch 41, Loss: 1.9907144476482863, Test Loss: 4.203819274902344, Test Error: 2.1700000000000053%\n",
      "Epoch 42, Loss: 1.9167390925162382, Test Loss: 4.218650817871094, Test Error: 2.210000000000001%\n",
      "Epoch 43, Loss: 1.8600955333536877, Test Loss: 4.080080986022949, Test Error: 2.1199999999999997%\n",
      "Epoch 44, Loss: 1.801982785958344, Test Loss: 3.9861791133880615, Test Error: 2.1299999999999986%\n",
      "Epoch 45, Loss: 1.726923727992374, Test Loss: 4.0737504959106445, Test Error: 2.1100000000000008%\n",
      "Epoch 46, Loss: 1.6724026888481844, Test Loss: 4.038565158843994, Test Error: 2.090000000000003%\n",
      "Epoch 47, Loss: 1.6141887491922389, Test Loss: 3.9657013416290283, Test Error: 2.059999999999995%\n",
      "Epoch 48, Loss: 1.5708652504884613, Test Loss: 4.030344009399414, Test Error: 2.070000000000005%\n",
      "Epoch 49, Loss: 1.5196086082027664, Test Loss: 3.8748538494110107, Test Error: 2.1100000000000008%\n",
      "Epoch 50, Loss: 1.4577934770251133, Test Loss: 3.8919146060943604, Test Error: 2.0000000000000018%\n"
     ]
    }
   ],
   "source": [
    "learning_rate = 0.1\n",
    "epochs = 50\n",
    "input_dim = 28*28\n",
    "hidden_dim = 300\n",
    "output_dim = 10\n",
    "\n",
    "model = NN(input_dim, hidden_dim, output_dim)\n",
    "\n",
    "training_losses = []\n",
    "test_losses = []\n",
    "test_errors = []\n",
    "for epoch in range(epochs):\n",
    "    total_loss = 0\n",
    "    for images, labels in trainloader:\n",
    "        images = images.view(images.shape[0], -1).t()\n",
    "        labels = torch.eye(10)[:, labels]\n",
    "        y_hat = model.forward(images)\n",
    "\n",
    "        loss = cross_entropy(y_hat, labels)\n",
    "        # loss = (-labels * torch.log(y_hat)).sum()\n",
    "        total_loss += loss.item()\n",
    "\n",
    "        model.backward(images, labels, learning_rate)\n",
    "        \n",
    "    training_losses.append(total_loss/len(trainloader))\n",
    "    test_error, total_loss = model_test(model)\n",
    "    test_losses.append(total_loss)\n",
    "    test_errors.append(test_error)\n",
    "    print(f\"Epoch {epoch+1}, Loss: {training_losses[-1]}, Test Loss: {test_losses[-1]}, Test Error: {100 * test_error}%\")"
   ]
  },
  {
   "cell_type": "code",
   "execution_count": 22,
   "metadata": {},
   "outputs": [
    {
     "name": "stdout",
     "output_type": "stream",
     "text": [
      "Accuracy: 98.0%, Test Error: 2.0000000000000018%\n"
     ]
    }
   ],
   "source": [
    "correct_test = 0\n",
    "total_test = 0\n",
    "for images, labels in testloader:\n",
    "    images = images.view(images.shape[0], -1).t()\n",
    "    outputs = model.forward(images)\n",
    "    predicted = torch.argmax(outputs, dim=0)\n",
    "    total_test += labels.size(0)\n",
    "    correct_test += (predicted == labels).sum().item()\n",
    "test_accuracy = correct_test / total_test\n",
    "test_error = 1 - test_accuracy\n",
    "print(f\"Accuracy: {100 * test_accuracy}%, Test Error: {100 * test_error}%\")"
   ]
  },
  {
   "cell_type": "code",
   "execution_count": 23,
   "metadata": {},
   "outputs": [
    {
     "data": {
      "image/png": "[encoded data removed]",
      "text/plain": [
       "<Figure size 576x360 with 1 Axes>"
      ]
     },
     "metadata": {
      "needs_background": "light"
     },
     "output_type": "display_data"
    }
   ],
   "source": [
    "fig1 = plt.figure(figsize=(8, 5))\n",
    "plt.plot(training_losses, marker='x', label=\"Training Loss\", color=\"blue\")\n",
    "plt.plot(test_losses, marker='x', label=\"Test Loss\", color=\"red\")\n",
    "plt.xlabel(\"Epochs\")\n",
    "plt.ylabel(\"Loss\")\n",
    "plt.title(\"Learning Curve\")\n",
    "plt.legend()\n",
    "plt.grid(True)\n",
    "plt.show()\n",
    "fig1.savefig('learning_curve.png', dpi=300)"
   ]
  },
  {
   "cell_type": "code",
   "execution_count": 24,
   "metadata": {},
   "outputs": [
    {
     "data": {
      "image/png": "[encoded data removed]",
      "text/plain": [
       "<Figure size 576x360 with 1 Axes>"
      ]
     },
     "metadata": {
      "needs_background": "light"
     },
     "output_type": "display_data"
    }
   ],
   "source": [
    "fig11 = plt.figure(figsize=(8, 5))\n",
    "plt.plot(100*np.array(test_errors), marker='x', label=\"Test Loss\", color=\"red\")\n",
    "plt.xlabel(\"Epochs\")\n",
    "plt.ylabel(\"Error Rate (%)\")\n",
    "plt.title(\"Test Error\")\n",
    "plt.legend()\n",
    "plt.grid(True)\n",
    "plt.show()\n",
    "fig11.savefig('test_error.png', dpi=300)"
   ]
  },
  {
   "cell_type": "markdown",
   "metadata": {},
   "source": [
    "#### Q4 (3)"
   ]
  },
  {
   "cell_type": "code",
   "execution_count": 12,
   "metadata": {},
   "outputs": [],
   "source": [
    "class PyTorchNN(nn.Module):\n",
    "    def __init__(self, input_dim, hidden_dim, output_dim):\n",
    "        super(PyTorchNN, self).__init__()\n",
    "        self.fc1 = nn.Linear(input_dim, hidden_dim)\n",
    "        self.fc2 = nn.Linear(hidden_dim, output_dim)\n",
    "\n",
    "    def forward(self, x):\n",
    "        x = torch.sigmoid(self.fc1(x))\n",
    "        x = F.softmax(self.fc2(x), dim=1)\n",
    "        return x"
   ]
  },
  {
   "cell_type": "code",
   "execution_count": 13,
   "metadata": {},
   "outputs": [],
   "source": [
    "def model_test_torch(model_torch, dataset=testloader):\n",
    "    correct_test = 0\n",
    "    total_test = 0\n",
    "    total_loss = 0\n",
    "    for images, labels in dataset:\n",
    "        images = images.view(images.shape[0], -1)\n",
    "        outputs = model_torch.forward(images)\n",
    "        predicted = torch.argmax(outputs, dim=1)\n",
    "        total_test += labels.size(0)\n",
    "        correct_test += (predicted == labels).sum().item()\n",
    "        total_loss += criterion(outputs, labels).item()\n",
    "    test_accuracy = correct_test / total_test\n",
    "    test_error = 1 - test_accuracy\n",
    "    # print(f\"Accuracy: {100 * test_accuracy}%, Test Error: {100 * test_error}%\")\n",
    "    total_loss = total_loss/len(dataset)\n",
    "    return test_error, total_loss"
   ]
  },
  {
   "cell_type": "code",
   "execution_count": 14,
   "metadata": {},
   "outputs": [
    {
     "name": "stdout",
     "output_type": "stream",
     "text": [
      "Epoch 1, Loss: 2.069412719720462, Test Loss: 1.9017784990322817, Test Error: 41.900000000000006%\n",
      "Epoch 2, Loss: 1.7960494658840236, Test Loss: 1.737123427877001, Test Error: 24.850000000000005%\n",
      "Epoch 3, Loss: 1.7293685182833722, Test Loss: 1.7163299360093038, Test Error: 24.19%\n",
      "Epoch 4, Loss: 1.7165833246479156, Test Loss: 1.708701974267413, Test Error: 23.850000000000005%\n",
      "Epoch 5, Loss: 1.7100957009329725, Test Loss: 1.7041102951499307, Test Error: 23.619999999999997%\n",
      "Epoch 6, Loss: 1.701669652833105, Test Loss: 1.67607677666245, Test Error: 19.369999999999997%\n",
      "Epoch 7, Loss: 1.660267722504988, Test Loss: 1.649158487654036, Test Error: 17.569999999999997%\n",
      "Epoch 8, Loss: 1.6461549049247302, Test Loss: 1.641024338211983, Test Error: 16.92%\n",
      "Epoch 9, Loss: 1.639488239278163, Test Loss: 1.635338611663527, Test Error: 16.490000000000006%\n",
      "Epoch 10, Loss: 1.634912763704369, Test Loss: 1.632656961489635, Test Error: 16.33%\n",
      "Epoch 11, Loss: 1.6316322989301133, Test Loss: 1.6286152730322188, Test Error: 15.949999999999998%\n",
      "Epoch 12, Loss: 1.6121903737979149, Test Loss: 1.5727425320133281, Test Error: 8.57%\n",
      "Epoch 13, Loss: 1.56670777922246, Test Loss: 1.5566977247311051, Test Error: 7.669999999999999%\n",
      "Epoch 14, Loss: 1.5574071006988413, Test Loss: 1.5515160879511742, Test Error: 7.5600000000000005%\n",
      "Epoch 15, Loss: 1.5520087683887116, Test Loss: 1.5470313737346868, Test Error: 7.240000000000002%\n",
      "Epoch 16, Loss: 1.548054879408147, Test Loss: 1.5440745323326937, Test Error: 7.079999999999997%\n",
      "Epoch 17, Loss: 1.5448983915324912, Test Loss: 1.5414690606912989, Test Error: 7.020000000000004%\n",
      "Epoch 18, Loss: 1.5420594202684188, Test Loss: 1.5394924028663879, Test Error: 6.889999999999996%\n",
      "Epoch 19, Loss: 1.5397606455186792, Test Loss: 1.5374742351519834, Test Error: 6.699999999999995%\n",
      "Epoch 20, Loss: 1.53751368715819, Test Loss: 1.535696001569177, Test Error: 6.620000000000004%\n",
      "Epoch 21, Loss: 1.535663151410597, Test Loss: 1.5339200352407565, Test Error: 6.479999999999997%\n",
      "Epoch 22, Loss: 1.533796447807792, Test Loss: 1.5338409880923618, Test Error: 6.520000000000003%\n",
      "Epoch 23, Loss: 1.5320234204660346, Test Loss: 1.5312560432276148, Test Error: 6.2000000000000055%\n",
      "Epoch 24, Loss: 1.5303593840934575, Test Loss: 1.5299163548050412, Test Error: 6.15%\n",
      "Epoch 25, Loss: 1.5289050640582023, Test Loss: 1.5290318036534984, Test Error: 6.100000000000005%\n",
      "Epoch 26, Loss: 1.5275490773257925, Test Loss: 1.5273434660237306, Test Error: 5.949999999999999%\n",
      "Epoch 27, Loss: 1.5261890933966078, Test Loss: 1.5262563668998184, Test Error: 5.830000000000002%\n",
      "Epoch 28, Loss: 1.5248016898057608, Test Loss: 1.5256732011296947, Test Error: 5.789999999999996%\n",
      "Epoch 29, Loss: 1.5234447656664005, Test Loss: 1.524179763854689, Test Error: 5.6499999999999995%\n",
      "Epoch 30, Loss: 1.5222845754897925, Test Loss: 1.5235081630147946, Test Error: 5.600000000000005%\n",
      "Epoch 31, Loss: 1.5212478026398208, Test Loss: 1.5228685216539224, Test Error: 5.510000000000003%\n",
      "Epoch 32, Loss: 1.5201355248117752, Test Loss: 1.522472872855557, Test Error: 5.610000000000004%\n",
      "Epoch 33, Loss: 1.519027285865629, Test Loss: 1.5204799820663064, Test Error: 5.359999999999998%\n",
      "Epoch 34, Loss: 1.517998572097404, Test Loss: 1.5200497830749318, Test Error: 5.320000000000002%\n",
      "Epoch 35, Loss: 1.5171172266830004, Test Loss: 1.519844426470957, Test Error: 5.359999999999998%\n",
      "Epoch 36, Loss: 1.516198603202031, Test Loss: 1.5188345301682782, Test Error: 5.179999999999996%\n",
      "Epoch 37, Loss: 1.515253036896557, Test Loss: 1.5178474780100926, Test Error: 5.110000000000003%\n",
      "Epoch 38, Loss: 1.514466090243, Test Loss: 1.516939659027537, Test Error: 5.059999999999998%\n",
      "Epoch 39, Loss: 1.513607006210254, Test Loss: 1.5163740724515005, Test Error: 5.0899999999999945%\n",
      "Epoch 40, Loss: 1.5128289950427725, Test Loss: 1.5155730725853307, Test Error: 4.910000000000004%\n",
      "Epoch 41, Loss: 1.5119996665637376, Test Loss: 1.5147430600634046, Test Error: 4.810000000000003%\n",
      "Epoch 42, Loss: 1.5112080549888773, Test Loss: 1.5148671728790186, Test Error: 4.759999999999998%\n",
      "Epoch 43, Loss: 1.5105173526796452, Test Loss: 1.5137722682041728, Test Error: 4.759999999999998%\n",
      "Epoch 44, Loss: 1.5097985795057658, Test Loss: 1.5132656492245424, Test Error: 4.749999999999998%\n",
      "Epoch 45, Loss: 1.509076475461663, Test Loss: 1.512872763500092, Test Error: 4.669999999999996%\n",
      "Epoch 46, Loss: 1.508437852996753, Test Loss: 1.5121565487734072, Test Error: 4.64%\n",
      "Epoch 47, Loss: 1.507769966049235, Test Loss: 1.5119525406770646, Test Error: 4.530000000000001%\n",
      "Epoch 48, Loss: 1.507162502960864, Test Loss: 1.511433837520089, Test Error: 4.600000000000004%\n",
      "Epoch 49, Loss: 1.5065541235622821, Test Loss: 1.5110567284237808, Test Error: 4.530000000000001%\n",
      "Epoch 50, Loss: 1.5058719939006162, Test Loss: 1.5099441898856194, Test Error: 4.400000000000004%\n"
     ]
    }
   ],
   "source": [
    "learning_rate = 0.1\n",
    "epochs = 50\n",
    "input_dim = 28*28\n",
    "hidden_dim = 300\n",
    "output_dim = 10\n",
    "\n",
    "model_torch = PyTorchNN(input_dim, hidden_dim, output_dim)\n",
    "criterion = nn.CrossEntropyLoss()\n",
    "optimizer = torch.optim.SGD(model_torch.parameters(), lr=learning_rate)\n",
    "\n",
    "training_losses_torch = []\n",
    "test_losses_torch = []\n",
    "test_errors_torch = []\n",
    "for epoch in range(epochs):\n",
    "    total_loss = 0\n",
    "    for images, labels in trainloader:\n",
    "        images = images.view(images.shape[0], -1)\n",
    "        optimizer.zero_grad()\n",
    "\n",
    "        outputs = model_torch(images)\n",
    "        loss = criterion(outputs, labels)\n",
    "\n",
    "        loss.backward()\n",
    "        optimizer.step()\n",
    "\n",
    "        total_loss += loss.item()\n",
    "    training_losses_torch.append(total_loss/len(trainloader))\n",
    "    test_error_torch, total_loss_torch = model_test_torch(model_torch)\n",
    "    test_losses_torch.append(total_loss_torch)\n",
    "    test_errors_torch.append(test_error_torch)\n",
    "    print(f\"Epoch {epoch+1}, Loss: {training_losses_torch[-1]}, Test Loss: {test_losses_torch[-1]}, Test Error: {100 * test_error_torch}%\")\n"
   ]
  },
  {
   "cell_type": "code",
   "execution_count": 15,
   "metadata": {},
   "outputs": [
    {
     "name": "stdout",
     "output_type": "stream",
     "text": [
      "Accuracy: 95.6%, Test Error: 4.400000000000004%\n"
     ]
    }
   ],
   "source": [
    "correct_test = 0\n",
    "total_test = 0\n",
    "with torch.no_grad():\n",
    "    for images, labels in testloader:\n",
    "        images = images.view(images.shape[0], -1)\n",
    "        outputs = model_torch.forward(images)\n",
    "        predicted = torch.argmax(outputs, dim=1)\n",
    "        total_test += labels.size(0)\n",
    "        correct_test += (predicted == labels).sum().item()\n",
    "test_accuracy = correct_test / total_test\n",
    "test_error = 1 - test_accuracy\n",
    "\n",
    "print(f\"Accuracy: {100 * test_accuracy}%, Test Error: {100 * test_error}%\")"
   ]
  },
  {
   "cell_type": "code",
   "execution_count": 18,
   "metadata": {},
   "outputs": [
    {
     "data": {
      "image/png": "[encoded data removed]",
      "text/plain": [
       "<Figure size 576x360 with 1 Axes>"
      ]
     },
     "metadata": {
      "needs_background": "light"
     },
     "output_type": "display_data"
    }
   ],
   "source": [
    "fig2 = plt.figure(figsize=(8, 5))\n",
    "plt.plot(training_losses_torch, marker='x', label=\"Training Loss\", color=\"blue\")\n",
    "plt.plot(test_losses_torch, marker='x', label=\"Test Loss\", color=\"red\")\n",
    "plt.xlabel(\"Epochs\")\n",
    "plt.ylabel(\"Loss\")\n",
    "plt.title(\"Learning Curve\")\n",
    "plt.legend()\n",
    "plt.grid(True)\n",
    "plt.show()\n",
    "fig2.savefig('learning_curve_torch.png', dpi=300)"
   ]
  },
  {
   "cell_type": "code",
   "execution_count": 17,
   "metadata": {},
   "outputs": [
    {
     "data": {
      "image/png": "[encoded data removed]",
      "text/plain": [
       "<Figure size 576x360 with 1 Axes>"
      ]
     },
     "metadata": {
      "needs_background": "light"
     },
     "output_type": "display_data"
    }
   ],
   "source": [
    "fig22 = plt.figure(figsize=(8, 5))\n",
    "plt.plot(100*np.array(test_errors_torch), marker='x', label=\"Test Loss\", color=\"red\")\n",
    "plt.xlabel(\"Epochs\")\n",
    "plt.ylabel(\"Error Rate (%)\")\n",
    "plt.title(\"Test Error\")\n",
    "plt.legend()\n",
    "plt.grid(True)\n",
    "plt.show()\n",
    "fig22.savefig('test_error_torch.png', dpi=300)"
   ]
  },
  {
   "cell_type": "code",
   "execution_count": null,
   "metadata": {},
   "outputs": [],
   "source": []
  }
 ],
 "metadata": {
  "kernelspec": {
   "display_name": "base",
   "language": "python",
   "name": "python3"
  },
  "language_info": {
   "codemirror_mode": {
    "name": "ipython",
    "version": 3
   },
   "file_extension": ".py",
   "mimetype": "text/x-python",
   "name": "python",
   "nbconvert_exporter": "python",
   "pygments_lexer": "ipython3",
   "version": "3.7.5"
  }
 },
 "nbformat": 4,
 "nbformat_minor": 2
}
