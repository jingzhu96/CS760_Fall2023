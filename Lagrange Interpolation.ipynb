{
 "cells": [
  {
   "cell_type": "code",
   "execution_count": 14,
   "id": "b2252b35",
   "metadata": {},
   "outputs": [],
   "source": [
    "import numpy as np\n",
    "from scipy.interpolate import lagrange\n",
    "\n",
    "a = 0\n",
    "b = 10\n",
    "n = 100\n",
    "\n",
    "x_train = np.linspace(a, b, n)\n",
    "y_train = np.sin(x_train)\n",
    "training_set = list(zip(x_train, y_train))\n",
    "\n",
    "f = lagrange(x_train, y_train)"
   ]
  },
  {
   "cell_type": "code",
   "execution_count": 15,
   "id": "1c37349b",
   "metadata": {},
   "outputs": [
    {
     "data": {
      "text/plain": [
       "1.0642517708245786e+139"
      ]
     },
     "execution_count": 15,
     "metadata": {},
     "output_type": "execute_result"
    }
   ],
   "source": [
    "x_test = np.linspace(0, 10, 30)\n",
    "y_test = np.sin(x_test)\n",
    "y_test_pred = f(x_test)\n",
    "\n",
    "mse_test = np.mean((y_test - y_test_pred)**2)\n",
    "mse_test"
   ]
  },
  {
   "cell_type": "code",
   "execution_count": 16,
   "id": "96178e14",
   "metadata": {},
   "outputs": [
    {
     "name": "stdout",
     "output_type": "stream",
     "text": [
      "Training MSE: 4.1562879651172666e+138\n",
      "Test MSE: 1.0642517708245786e+139\n"
     ]
    }
   ],
   "source": [
    "y_train_pred = f(x_train)\n",
    "y_test_pred = f(x_test)\n",
    "\n",
    "# Calculate Mean Squared Error (MSE) for training and test sets\n",
    "mse_train = np.mean((y_train - y_train_pred)**2)\n",
    "mse_test = np.mean((y_test - y_test_pred)**2)\n",
    "\n",
    "print(f\"Training MSE: {mse_train}\")\n",
    "print(f\"Test MSE: {mse_test}\")"
   ]
  },
  {
   "cell_type": "code",
   "execution_count": 32,
   "id": "92a8a1d8",
   "metadata": {},
   "outputs": [
    {
     "data": {
      "image/png": "[encoded data removed]",
      "text/plain": [
       "<Figure size 432x288 with 1 Axes>"
      ]
     },
     "metadata": {
      "needs_background": "light"
     },
     "output_type": "display_data"
    }
   ],
   "source": [
    "import matplotlib.pyplot as plt\n",
    "fig = plt.figure()\n",
    "plt.plot(y_train)\n",
    "plt.plot(y_train_pred)\n",
    "fig.savefig(\"Lagrange.png\")"
   ]
  },
  {
   "cell_type": "code",
   "execution_count": 18,
   "id": "a783e6d8",
   "metadata": {},
   "outputs": [
    {
     "data": {
      "text/plain": [
       "[<matplotlib.lines.Line2D at 0x1dae1411370>]"
      ]
     },
     "execution_count": 18,
     "metadata": {},
     "output_type": "execute_result"
    },
    {
     "data": {
      "image/png": "[encoded data removed]",
      "text/plain": [
       "<Figure size 432x288 with 1 Axes>"
      ]
     },
     "metadata": {
      "needs_background": "light"
     },
     "output_type": "display_data"
    }
   ],
   "source": [
    "plt.plot(y_test)\n",
    "plt.plot(y_test_pred)"
   ]
  },
  {
   "cell_type": "code",
   "execution_count": 30,
   "id": "62c94780",
   "metadata": {},
   "outputs": [
    {
     "name": "stdout",
     "output_type": "stream",
     "text": [
      "0.1 7.579118641395908e+140\n",
      "0.5 8.136604422036348e+152\n",
      "1 1.3493015848774313e+147\n",
      "2 4.514989535155346e+130\n",
      "5 1.541332069233685e+96\n",
      "10 6.907894895434592e+43\n",
      "20 2.0606599078352497e+27\n",
      "50 65809.57306958476\n"
     ]
    }
   ],
   "source": [
    "e = 1\n",
    "for e in [0.1,0.5,1,2,5,10,20,50]:\n",
    "    noise = np.random.normal(0, e, size=100)\n",
    "    x_train_e = x_train + noise\n",
    "\n",
    "    f_e = lagrange(x_train_e, y_train)\n",
    "\n",
    "    x_test = np.linspace(0, 10, 30)\n",
    "    y_test = np.sin(x_test)\n",
    "    y_test_pred_e = f_e(x_test)\n",
    "\n",
    "    mse_test_e = np.mean((y_test - y_test_pred_e)**2)\n",
    "    print(e, mse_test_e)"
   ]
  },
  {
   "cell_type": "code",
   "execution_count": 26,
   "id": "7181e24a",
   "metadata": {},
   "outputs": [
    {
     "data": {
      "text/plain": [
       "[<matplotlib.lines.Line2D at 0x1dae26e8be0>]"
      ]
     },
     "execution_count": 26,
     "metadata": {},
     "output_type": "execute_result"
    },
    {
     "data": {
      "image/png": "[encoded data removed]",
      "text/plain": [
       "<Figure size 432x288 with 1 Axes>"
      ]
     },
     "metadata": {
      "needs_background": "light"
     },
     "output_type": "display_data"
    }
   ],
   "source": [
    "plt.plot(y_test)\n",
    "# plt.plot(y_test_pred)\n",
    "plt.plot(y_test_pred_e)"
   ]
  },
  {
   "cell_type": "code",
   "execution_count": null,
   "id": "556109b5",
   "metadata": {},
   "outputs": [],
   "source": []
  }
 ],
 "metadata": {
  "kernelspec": {
   "display_name": "Python 3 (ipykernel)",
   "language": "python",
   "name": "python3"
  },
  "language_info": {
   "codemirror_mode": {
    "name": "ipython",
    "version": 3
   },
   "file_extension": ".py",
   "mimetype": "text/x-python",
   "name": "python",
   "nbconvert_exporter": "python",
   "pygments_lexer": "ipython3",
   "version": "3.9.7"
  }
 },
 "nbformat": 4,
 "nbformat_minor": 5
}
