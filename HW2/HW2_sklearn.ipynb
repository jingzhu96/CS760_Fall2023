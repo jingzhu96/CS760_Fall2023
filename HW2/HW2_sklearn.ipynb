{
 "cells": [
  {
   "cell_type": "code",
   "execution_count": 1,
   "id": "7db7a60c",
   "metadata": {},
   "outputs": [],
   "source": [
    "from sklearn.tree import DecisionTreeClassifier\n",
    "from sklearn.model_selection import train_test_split\n",
    "from sklearn.metrics import accuracy_score\n",
    "import numpy as np\n",
    "import pandas as pd"
   ]
  },
  {
   "cell_type": "code",
   "execution_count": 2,
   "id": "523604e9",
   "metadata": {},
   "outputs": [],
   "source": [
    "D_test = pd.read_csv('D_test.txt', sep=' ', header=None)\n",
    "D_test.columns = ['x1', 'x2', 'y']\n",
    "X_test = D_test[['x1','x2']]\n",
    "y_test = D_test['y']"
   ]
  },
  {
   "cell_type": "code",
   "execution_count": 3,
   "id": "8814034a",
   "metadata": {},
   "outputs": [
    {
     "data": {
      "text/plain": [
       "[0.11946902654867253,\n",
       " 0.07466814159292035,\n",
       " 0.0497787610619469,\n",
       " 0.028207964601769886,\n",
       " 0.015486725663716783]"
      ]
     },
     "execution_count": 3,
     "metadata": {},
     "output_type": "execute_result"
    }
   ],
   "source": [
    "Data = [\"D_32\", \"D_128\", \"D_512\", \"D_2048\", \"D_8192\"]\n",
    "ERRN = []\n",
    "nodes = []\n",
    "for i in Data:\n",
    "    D_train = pd.read_csv(i+\".txt\", sep=' ', header=None)\n",
    "    D_train.columns = ['x1', 'x2', 'y']\n",
    "    X_train = D_train[['x1','x2']]\n",
    "    y_train = D_train['y']\n",
    "    \n",
    "    clf = DecisionTreeClassifier(random_state=42)\n",
    "    clf.fit(X_train, y_train)\n",
    "    y_pred = clf.predict(X_test)\n",
    "    error_rate = 1 - accuracy_score(y_test, y_pred)\n",
    "    num_nodes = clf.tree_.node_count\n",
    "    ERRN.append(error_rate)\n",
    "    nodes.append(num_nodes)\n",
    "ERRN"
   ]
  },
  {
   "cell_type": "code",
   "execution_count": 4,
   "id": "934649f8",
   "metadata": {},
   "outputs": [
    {
     "data": {
      "text/plain": [
       "[13, 23, 47, 113, 243]"
      ]
     },
     "execution_count": 4,
     "metadata": {},
     "output_type": "execute_result"
    }
   ],
   "source": [
    "nodes"
   ]
  },
  {
   "cell_type": "code",
   "execution_count": null,
   "id": "a5a9b0b7",
   "metadata": {},
   "outputs": [],
   "source": []
  },
  {
   "cell_type": "code",
   "execution_count": null,
   "id": "bd0bd63f",
   "metadata": {},
   "outputs": [],
   "source": []
  },
  {
   "cell_type": "code",
   "execution_count": null,
   "id": "db8869b1",
   "metadata": {},
   "outputs": [],
   "source": []
  }
 ],
 "metadata": {
  "kernelspec": {
   "display_name": "Python 3 (ipykernel)",
   "language": "python",
   "name": "python3"
  },
  "language_info": {
   "codemirror_mode": {
    "name": "ipython",
    "version": 3
   },
   "file_extension": ".py",
   "mimetype": "text/x-python",
   "name": "python",
   "nbconvert_exporter": "python",
   "pygments_lexer": "ipython3",
   "version": "3.9.7"
  }
 },
 "nbformat": 4,
 "nbformat_minor": 5
}
