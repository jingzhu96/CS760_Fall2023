{
 "cells": [
  {
   "cell_type": "code",
   "execution_count": 1,
   "id": "de7f4ea6",
   "metadata": {},
   "outputs": [],
   "source": [
    "import math\n",
    "import numpy as np\n",
    "import pandas as pd\n",
    "import matplotlib.pyplot as plt"
   ]
  },
  {
   "cell_type": "code",
   "execution_count": 2,
   "id": "2cef4bd0",
   "metadata": {},
   "outputs": [],
   "source": [
    "filename = 'Druns.txt'\n",
    "Data = pd.read_csv(filename, sep=' ', header=None)\n",
    "Data.columns = ['x1', 'x2', 'y']\n",
    "#Data"
   ]
  },
  {
   "cell_type": "code",
   "execution_count": 3,
   "id": "bf1b2551",
   "metadata": {},
   "outputs": [],
   "source": [
    "def entropy(data):\n",
    "    if len(data) == 0:\n",
    "        return 0\n",
    "    d0 = len(data[data.loc[:, 'y'] == 0])\n",
    "    d1 = len(data[data.loc[:, 'y'] == 1])\n",
    "    p0 = d0/len(data)\n",
    "    p1 = d1/len(data)\n",
    "    if (p0 == 0) or (p1 == 0):\n",
    "        H = 0 \n",
    "    else:\n",
    "        H = -p0 * math.log(p0, 2)- p1 * math.log(p1, 2)\n",
    "    return H"
   ]
  },
  {
   "cell_type": "code",
   "execution_count": 4,
   "id": "b6924d37",
   "metadata": {},
   "outputs": [],
   "source": [
    "def entropy_feature(len_left, len_right):\n",
    "    p_l = len_left / (len_left + len_right)\n",
    "    p_r = len_right / (len_left + len_right)\n",
    "    if (p_l == 0) or (p_r == 0):\n",
    "        H = 0 \n",
    "    else:\n",
    "        H = -p_l * math.log(p_l, 2)- p_r * math.log(p_r, 2)\n",
    "    return H"
   ]
  },
  {
   "cell_type": "code",
   "execution_count": 8,
   "id": "3c7332c4",
   "metadata": {},
   "outputs": [],
   "source": [
    "def InfoGain(data, threshold, feature): \n",
    "    if len(data) == 0:\n",
    "        return 0\n",
    "    Data = data[[feature, 'y']]\n",
    "    D_left = Data[Data[feature] >= threshold]\n",
    "    D_right = Data[Data[feature] < threshold]\n",
    "    p_left = len(D_left)/len(data)\n",
    "    p_right = len(D_right)/len(data)\n",
    "    HY = entropy(data)\n",
    "    entropy_left = entropy(D_left)\n",
    "    entropy_right = entropy(D_right)\n",
    "    Gain = HY-(p_left * entropy_left + p_right * entropy_right)\n",
    "    return Gain, len(D_left), len(D_right)"
   ]
  },
  {
   "cell_type": "code",
   "execution_count": 9,
   "id": "99db5bbb",
   "metadata": {},
   "outputs": [],
   "source": [
    "def all_candidate_splits(data):\n",
    "    final_result = []\n",
    "    for f in (\"x1\",\"x2\"):\n",
    "        #print(f)\n",
    "        sorted_D = data.sort_values(by=[f])\n",
    "        for i in range(len(data)):\n",
    "            cuts = sorted_D.iloc[i][f]\n",
    "            data_f = data[[f, 'y']]\n",
    "            info_gain, len_left, len_right = InfoGain(data,cuts,f)\n",
    "            HS = entropy_feature(len_left, len_right)\n",
    "            if HS == 0:\n",
    "                gain_ratio = info_gain\n",
    "            else:\n",
    "                gain_ratio = info_gain/HS\n",
    "            #print(HS, info_gain, gain_ratio)\n",
    "            result = f + ' >= ' + str(cuts) + ', info gain ratio = ' + str('%.4f' % gain_ratio)\n",
    "            if result not in final_result:\n",
    "                    final_result.append(result)\n",
    "    return final_result "
   ]
  },
  {
   "cell_type": "code",
   "execution_count": 11,
   "id": "25aaf067",
   "metadata": {},
   "outputs": [
    {
     "data": {
      "text/plain": [
       "['x1 >= 0.0, info gain ratio = 0.0000',\n",
       " 'x1 >= 0.1, info gain ratio = 0.1005',\n",
       " 'x2 >= -2.0, info gain ratio = 0.0000',\n",
       " 'x2 >= -1.0, info gain ratio = 0.1005',\n",
       " 'x2 >= 0.0, info gain ratio = 0.0560',\n",
       " 'x2 >= 1.0, info gain ratio = 0.0058',\n",
       " 'x2 >= 2.0, info gain ratio = 0.0011',\n",
       " 'x2 >= 3.0, info gain ratio = 0.0164',\n",
       " 'x2 >= 4.0, info gain ratio = 0.0497',\n",
       " 'x2 >= 5.0, info gain ratio = 0.1112',\n",
       " 'x2 >= 6.0, info gain ratio = 0.2361',\n",
       " 'x2 >= 7.0, info gain ratio = 0.0560',\n",
       " 'x2 >= 8.0, info gain ratio = 0.4302']"
      ]
     },
     "execution_count": 11,
     "metadata": {},
     "output_type": "execute_result"
    }
   ],
   "source": [
    "all_candidate_splits(Data) "
   ]
  },
  {
   "cell_type": "code",
   "execution_count": 12,
   "id": "93035608",
   "metadata": {},
   "outputs": [],
   "source": [
    "filename = 'D1.txt'\n",
    "D1 = pd.read_csv(filename, sep=' ', header=None)\n",
    "D1.columns = ['x1', 'x2', 'y']"
   ]
  },
  {
   "cell_type": "code",
   "execution_count": 17,
   "id": "0840d884",
   "metadata": {},
   "outputs": [
    {
     "data": {
      "text/plain": [
       "2000"
      ]
     },
     "execution_count": 17,
     "metadata": {},
     "output_type": "execute_result"
    }
   ],
   "source": [
    "s = all_candidate_splits(D1)\n",
    "len(s)"
   ]
  },
  {
   "cell_type": "code",
   "execution_count": null,
   "id": "6bcfc046",
   "metadata": {},
   "outputs": [],
   "source": []
  }
 ],
 "metadata": {
  "kernelspec": {
   "display_name": "Python 3 (ipykernel)",
   "language": "python",
   "name": "python3"
  },
  "language_info": {
   "codemirror_mode": {
    "name": "ipython",
    "version": 3
   },
   "file_extension": ".py",
   "mimetype": "text/x-python",
   "name": "python",
   "nbconvert_exporter": "python",
   "pygments_lexer": "ipython3",
   "version": "3.9.7"
  }
 },
 "nbformat": 4,
 "nbformat_minor": 5
}
