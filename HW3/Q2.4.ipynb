{
 "cells": [
  {
   "cell_type": "code",
   "execution_count": 1,
   "id": "3707bf72",
   "metadata": {},
   "outputs": [],
   "source": [
    "import numpy as np\n",
    "import pandas as pd\n",
    "import matplotlib.pyplot as plt"
   ]
  },
  {
   "cell_type": "code",
   "execution_count": 2,
   "id": "29a35385",
   "metadata": {},
   "outputs": [],
   "source": [
    "data_email = pd.read_csv('hw3Data/emails.csv', header=0).values[:,1:].astype(np.int32)"
   ]
  },
  {
   "cell_type": "code",
   "execution_count": 3,
   "id": "9875f7ef",
   "metadata": {},
   "outputs": [],
   "source": [
    "def euclidean_distances(train_data, test_instance):\n",
    "    return np.sqrt(np.sum((train_data - test_instance) ** 2, axis=1))\n",
    "\n",
    "def kNN(train_data, train_label, test_data, k):\n",
    "    distances = euclidean_distances(train_data, test_data)\n",
    "    k_nearest_indices = distances.argsort()[:k]\n",
    "    k_nearest_labels = train_label[k_nearest_indices]\n",
    "\n",
    "    count_ones = np.sum(k_nearest_labels == 1)\n",
    "    count_zeros = k - count_ones\n",
    "\n",
    "    predicted_label = 1 if count_ones > count_zeros else 0\n",
    "    return predicted_label\n",
    "\n",
    "def accuracy(y_true, y_pred):\n",
    "    return np.sum(y_true == y_pred) / len(y_true)"
   ]
  },
  {
   "cell_type": "code",
   "execution_count": 4,
   "id": "40d3ac15",
   "metadata": {},
   "outputs": [
    {
     "name": "stdout",
     "output_type": "stream",
     "text": [
      "k = 1, Average Accuracy: 83.44%\n",
      "k = 3, Average Accuracy: 84.10%\n",
      "k = 5, Average Accuracy: 84.18%\n",
      "k = 7, Average Accuracy: 84.52%\n",
      "k = 10, Average Accuracy: 85.58%\n"
     ]
    },
    {
     "data": {
      "image/png": "[encoded data removed]",
      "text/plain": [
       "<Figure size 576x432 with 1 Axes>"
      ]
     },
     "metadata": {
      "needs_background": "light"
     },
     "output_type": "display_data"
    }
   ],
   "source": [
    "X = data_email[:,:-1]\n",
    "y = data_email[:,-1]\n",
    "\n",
    "num_folds = 5\n",
    "fold_size = len(y) // num_folds\n",
    "k_values = [1, 3, 5, 7, 10]\n",
    "avg_accuracies = []\n",
    "\n",
    "for k in k_values:\n",
    "    fold_accuracies = []\n",
    "    \n",
    "    for fold in range(num_folds):\n",
    "        val_start = fold * fold_size\n",
    "        val_end = (fold + 1) * fold_size\n",
    "        \n",
    "        X_val, y_val = X[val_start:val_end], y[val_start:val_end]\n",
    "        X_train = np.concatenate((X[:val_start], X[val_end:]), axis=0)\n",
    "        y_train = np.concatenate((y[:val_start], y[val_end:]), axis=0)\n",
    "        \n",
    "        correct_predictions = 0\n",
    "        for i in range(len(X_val)):\n",
    "            test_instance = X_val[i]\n",
    "            prediction = kNN(X_train, y_train, test_instance, k)\n",
    "            if prediction == y_val[i]:\n",
    "                correct_predictions += 1\n",
    "        \n",
    "        acc = correct_predictions / len(X_val)        \n",
    "        fold_accuracies.append(acc)\n",
    "\n",
    "    avg_accuracy = np.mean(fold_accuracies)\n",
    "    avg_accuracies.append(avg_accuracy)\n",
    "    print(f\"k = {k}, Average Accuracy: {avg_accuracy*100:.2f}%\")\n",
    "\n",
    "fig2 = plt.figure(figsize=(8, 6))\n",
    "plt.plot(k_values, avg_accuracies, '-o', markersize=8)\n",
    "plt.xlabel(\"k\")\n",
    "plt.ylabel(\"Average Accuracy\")\n",
    "plt.title(\"kNN 5-fold Cross Validation\")\n",
    "plt.grid(True)\n",
    "plt.show()\n",
    "fig2.savefig('P2.4_kNN_5fold.png')"
   ]
  },
  {
   "cell_type": "code",
   "execution_count": null,
   "id": "dbb1aa53",
   "metadata": {},
   "outputs": [],
   "source": []
  },
  {
   "cell_type": "code",
   "execution_count": null,
   "id": "53c0e7b0",
   "metadata": {},
   "outputs": [],
   "source": []
  }
 ],
 "metadata": {
  "kernelspec": {
   "display_name": "Python 3 (ipykernel)",
   "language": "python",
   "name": "python3"
  },
  "language_info": {
   "codemirror_mode": {
    "name": "ipython",
    "version": 3
   },
   "file_extension": ".py",
   "mimetype": "text/x-python",
   "name": "python",
   "nbconvert_exporter": "python",
   "pygments_lexer": "ipython3",
   "version": "3.9.7"
  }
 },
 "nbformat": 4,
 "nbformat_minor": 5
}
