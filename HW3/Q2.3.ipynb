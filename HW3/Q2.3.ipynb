{
 "cells": [
  {
   "cell_type": "code",
   "execution_count": 2,
   "id": "2249fedf",
   "metadata": {},
   "outputs": [],
   "source": [
    "import numpy as np\n",
    "import pandas as pd"
   ]
  },
  {
   "cell_type": "code",
   "execution_count": 3,
   "id": "912a81b7",
   "metadata": {},
   "outputs": [
    {
     "data": {
      "text/plain": [
       "(5000, 3001)"
      ]
     },
     "execution_count": 3,
     "metadata": {},
     "output_type": "execute_result"
    }
   ],
   "source": [
    "data_email = pd.read_csv('hw3Data/emails.csv', header=0).values[:,1:].astype(np.int32)\n",
    "data_email.shape"
   ]
  },
  {
   "cell_type": "code",
   "execution_count": 4,
   "id": "d7efd1c2",
   "metadata": {},
   "outputs": [],
   "source": [
    "def sigmoid(z):\n",
    "    return 1 / (1 + np.exp(-z))\n",
    "\n",
    "def gradient_descent(X, y, theta, alpha, epochs):\n",
    "    m = len(y)\n",
    "    for _ in range(epochs):\n",
    "        h = sigmoid(X @ theta)\n",
    "        gradient = 1/m * X.T @ (h - y)\n",
    "        theta = theta - alpha * gradient\n",
    "    return theta\n",
    "\n",
    "def predict(X, theta):\n",
    "    return sigmoid(X @ theta) >= 0.5"
   ]
  },
  {
   "cell_type": "code",
   "execution_count": 6,
   "id": "d0148d12",
   "metadata": {},
   "outputs": [],
   "source": [
    "def get_metrics(y_true, y_pred):\n",
    "    TP = np.sum((y_true == 1) & (y_pred == 1))\n",
    "    TN = np.sum((y_true == 0) & (y_pred == 0))\n",
    "    FP = np.sum((y_true == 0) & (y_pred == 1))\n",
    "    FN = np.sum((y_true == 1) & (y_pred == 0))\n",
    "    \n",
    "    accuracy = (TP + TN) / (TP + TN + FP + FN)\n",
    "    precision = TP / (TP + FP) if TP + FP != 0 else 0\n",
    "    recall = TP / (TP + FN) if TP + FN != 0 else 0\n",
    "    \n",
    "    return accuracy, precision, recall"
   ]
  },
  {
   "cell_type": "code",
   "execution_count": 7,
   "id": "cef0f4b8",
   "metadata": {},
   "outputs": [
    {
     "name": "stdout",
     "output_type": "stream",
     "text": [
      "Learning rate: 0.0001:\n",
      "Fold 1 - Accuracy: 86.20%, Precision: 82.10%, Recall: 65.96%\n",
      "Fold 2 - Accuracy: 83.80%, Precision: 77.51%, Recall: 58.48%\n",
      "Fold 3 - Accuracy: 84.30%, Precision: 84.32%, Recall: 54.93%\n",
      "Fold 4 - Accuracy: 82.70%, Precision: 77.88%, Recall: 57.48%\n",
      "Fold 5 - Accuracy: 75.60%, Precision: 63.72%, Recall: 47.06%\n",
      "Average Accuracy: 82.52%, Average Precision: 77.11%, Average Recall: 56.78%\n",
      "Learning rate: 0.001:\n",
      "Fold 1 - Accuracy: 81.70%, Precision: 62.50%, Recall: 89.47%\n",
      "Fold 2 - Accuracy: 83.80%, Precision: 64.94%, Recall: 90.25%\n",
      "Fold 3 - Accuracy: 85.10%, Precision: 89.94%, Recall: 53.52%\n",
      "Fold 4 - Accuracy: 85.10%, Precision: 83.41%, Recall: 61.56%\n",
      "Fold 5 - Accuracy: 77.20%, Precision: 76.71%, Recall: 36.60%\n",
      "Average Accuracy: 82.58%, Average Precision: 75.50%, Average Recall: 66.28%\n",
      "Learning rate: 0.01:\n"
     ]
    },
    {
     "name": "stderr",
     "output_type": "stream",
     "text": [
      "C:\\Users\\jzhu254\\AppData\\Local\\Temp/ipykernel_29176/27873027.py:2: RuntimeWarning: overflow encountered in exp\n",
      "  return 1 / (1 + np.exp(-z))\n"
     ]
    },
    {
     "name": "stdout",
     "output_type": "stream",
     "text": [
      "Fold 1 - Accuracy: 72.30%, Precision: 50.77%, Recall: 92.98%\n",
      "Fold 2 - Accuracy: 86.40%, Precision: 83.41%, Recall: 63.54%\n",
      "Fold 3 - Accuracy: 88.20%, Precision: 83.74%, Recall: 72.54%\n",
      "Fold 4 - Accuracy: 74.70%, Precision: 97.67%, Recall: 14.29%\n",
      "Fold 5 - Accuracy: 82.20%, Precision: 68.08%, Recall: 78.76%\n",
      "Average Accuracy: 80.76%, Average Precision: 76.73%, Average Recall: 64.42%\n",
      "Learning rate: 0.1:\n",
      "Fold 1 - Accuracy: 63.10%, Precision: 43.29%, Recall: 95.09%\n",
      "Fold 2 - Accuracy: 78.50%, Precision: 87.80%, Recall: 25.99%\n",
      "Fold 3 - Accuracy: 88.20%, Precision: 83.74%, Recall: 72.54%\n",
      "Fold 4 - Accuracy: 72.40%, Precision: 51.64%, Recall: 96.60%\n",
      "Fold 5 - Accuracy: 82.30%, Precision: 68.27%, Recall: 78.76%\n",
      "Average Accuracy: 76.90%, Average Precision: 66.95%, Average Recall: 73.79%\n",
      "Learning rate: 1:\n",
      "Fold 1 - Accuracy: 87.40%, Precision: 88.04%, Recall: 64.56%\n",
      "Fold 2 - Accuracy: 77.70%, Precision: 87.50%, Recall: 22.74%\n",
      "Fold 3 - Accuracy: 88.20%, Precision: 84.02%, Recall: 72.18%\n",
      "Fold 4 - Accuracy: 73.90%, Precision: 53.12%, Recall: 95.58%\n",
      "Fold 5 - Accuracy: 79.40%, Precision: 78.41%, Recall: 45.10%\n",
      "Average Accuracy: 81.32%, Average Precision: 78.22%, Average Recall: 60.03%\n"
     ]
    }
   ],
   "source": [
    "X = data_email[:, 0:-1]\n",
    "y = data_email[:, -1]\n",
    "\n",
    "for alpha in [0.0001, 0.001, 0.01, 0.1, 1]:    \n",
    "    theta_init = np.zeros(X.shape[1])\n",
    "    \n",
    "    epochs = 500\n",
    "    \n",
    "    num_folds = 5\n",
    "    fold_size = len(y) // num_folds\n",
    "\n",
    "    print(f\"Learning rate: {alpha}:\")\n",
    "    accuracy_list = []\n",
    "    precision_list = []\n",
    "    recall_list = []\n",
    "    for fold in range(num_folds):\n",
    "\n",
    "        val_start = fold * fold_size\n",
    "        val_end = (fold + 1) * fold_size\n",
    "        \n",
    "        X_val, y_val = X[val_start:val_end], y[val_start:val_end]\n",
    "        X_train = np.concatenate((X[:val_start], X[val_end:]), axis=0)\n",
    "        y_train = np.concatenate((y[:val_start], y[val_end:]), axis=0)\n",
    "        \n",
    "        theta = gradient_descent(X_train, y_train, theta_init, alpha, epochs)\n",
    "        y_pred = predict(X_val, theta)\n",
    "        \n",
    "        accuracy, precision, recall = get_metrics(y_val, y_pred)\n",
    "\n",
    "        accuracy_list.append(accuracy)\n",
    "        precision_list.append(precision)\n",
    "        recall_list.append(recall)\n",
    "        \n",
    "        print(f\"Fold {fold+1} - Accuracy: {accuracy*100:.2f}%, Precision: {precision*100:.2f}%, Recall: {recall*100:.2f}%\")\n",
    "    \n",
    "    avg_accuracy = np.mean(accuracy_list)\n",
    "    avg_precision = np.mean(precision_list)\n",
    "    avg_recall = np.mean(recall_list)\n",
    "\n",
    "    print(f\"Average Accuracy: {avg_accuracy*100:.2f}%, Average Precision: {avg_precision*100:.2f}%, Average Recall: {avg_recall*100:.2f}%\")"
   ]
  },
  {
   "cell_type": "code",
   "execution_count": null,
   "id": "92186699",
   "metadata": {},
   "outputs": [],
   "source": []
  },
  {
   "cell_type": "code",
   "execution_count": null,
   "id": "411f0f51",
   "metadata": {},
   "outputs": [],
   "source": []
  },
  {
   "cell_type": "code",
   "execution_count": null,
   "id": "ad85f0a7",
   "metadata": {},
   "outputs": [],
   "source": []
  }
 ],
 "metadata": {
  "kernelspec": {
   "display_name": "Python 3 (ipykernel)",
   "language": "python",
   "name": "python3"
  },
  "language_info": {
   "codemirror_mode": {
    "name": "ipython",
    "version": 3
   },
   "file_extension": ".py",
   "mimetype": "text/x-python",
   "name": "python",
   "nbconvert_exporter": "python",
   "pygments_lexer": "ipython3",
   "version": "3.9.7"
  }
 },
 "nbformat": 4,
 "nbformat_minor": 5
}
