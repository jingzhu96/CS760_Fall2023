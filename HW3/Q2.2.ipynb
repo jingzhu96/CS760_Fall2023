{
 "cells": [
  {
   "cell_type": "code",
   "execution_count": 1,
   "id": "c2369130",
   "metadata": {},
   "outputs": [],
   "source": [
    "import numpy as np\n",
    "import pandas as pd\n",
    "import matplotlib.pyplot as plt"
   ]
  },
  {
   "cell_type": "code",
   "execution_count": 2,
   "id": "06466e20",
   "metadata": {},
   "outputs": [
    {
     "data": {
      "text/plain": [
       "(5000, 3001)"
      ]
     },
     "execution_count": 2,
     "metadata": {},
     "output_type": "execute_result"
    }
   ],
   "source": [
    "data_email = pd.read_csv('hw3Data/emails.csv', header=0).values[:,1:].astype(np.int32)\n",
    "data_email.shape"
   ]
  },
  {
   "cell_type": "code",
   "execution_count": 4,
   "id": "daae637e",
   "metadata": {},
   "outputs": [
    {
     "data": {
      "text/plain": [
       "array([[ 0,  0,  1, ...,  0,  0,  0],\n",
       "       [ 8, 13, 24, ...,  1,  0,  0],\n",
       "       [ 0,  0,  1, ...,  0,  0,  0],\n",
       "       ...,\n",
       "       [ 6,  8,  1, ...,  0,  0,  0],\n",
       "       [ 8,  6,  2, ...,  0,  0,  0],\n",
       "       [13, 12,  3, ...,  0,  0,  0]])"
      ]
     },
     "execution_count": 4,
     "metadata": {},
     "output_type": "execute_result"
    }
   ],
   "source": [
    "data_email"
   ]
  },
  {
   "cell_type": "code",
   "execution_count": 3,
   "id": "aeabdb48",
   "metadata": {},
   "outputs": [
    {
     "data": {
      "text/plain": [
       "((5000, 3000), (5000,))"
      ]
     },
     "execution_count": 3,
     "metadata": {},
     "output_type": "execute_result"
    }
   ],
   "source": [
    "X = data_email[:,0:-1]\n",
    "y = data_email[:,-1]\n",
    "X.shape, y.shape"
   ]
  },
  {
   "cell_type": "code",
   "execution_count": 5,
   "id": "eb994ece",
   "metadata": {},
   "outputs": [],
   "source": [
    "def euclidean_distances(train_data, test_instance):\n",
    "    return np.sqrt(np.sum((train_data - test_instance) ** 2, axis=1))\n",
    "\n",
    "def one_nearest_neighbor(train_data, train_label, test_data):\n",
    "    distances = euclidean_distances(train_data, test_data)\n",
    "    nearest_indices = distances.argsort()[0]\n",
    "    predicted_label = train_label[nearest_indices]\n",
    "    return predicted_label"
   ]
  },
  {
   "cell_type": "code",
   "execution_count": 6,
   "id": "27e1e39f",
   "metadata": {},
   "outputs": [],
   "source": [
    "def k_fold_cross_validation(X, y, k=5):\n",
    "    fold_size = len(X) // k\n",
    "    accuracy_list = []\n",
    "    precision_list = []\n",
    "    recall_list = []\n",
    "\n",
    "    for fold in range(k):\n",
    "        start = fold * fold_size\n",
    "        end = (fold + 1) * fold_size\n",
    "\n",
    "        X_val = X[start:end]\n",
    "        y_val = y[start:end]\n",
    "        X_train = np.concatenate((X[:start], X[end:]))\n",
    "        y_train = np.concatenate((y[:start], y[end:]))\n",
    "\n",
    "        predicted_labels = []\n",
    "        for i in range(len(X_val)):\n",
    "            test_instance = X_val[i]\n",
    "            prediction = one_nearest_neighbor(X_train, y_train, test_instance)\n",
    "            predicted_labels.append(prediction)\n",
    "\n",
    "        predicted_labels = np.array(predicted_labels)\n",
    "        correct_predictions = np.sum(predicted_labels == y_val)\n",
    "        TP = np.sum((predicted_labels == 1) & (y_val == 1))\n",
    "        FP = np.sum((predicted_labels == 1) & (y_val == 0))\n",
    "        FN = np.sum((predicted_labels == 0) & (y_val == 1))\n",
    "\n",
    "        accuracy = correct_predictions / len(X_val)\n",
    "        precision = TP / (TP + FP) if (TP + FP) != 0 else 0\n",
    "        recall = TP / (TP + FN) if (TP + FN) != 0 else 0\n",
    "\n",
    "        accuracy_list.append(accuracy)\n",
    "        precision_list.append(precision)\n",
    "        recall_list.append(recall)\n",
    "\n",
    "        print(f\"Fold {fold+1} - Accuracy: {accuracy*100:.2f}%, Precision: {precision*100:.2f}%, Recall: {recall*100:.2f}%\")\n",
    "    return accuracy_list, precision_list, recall_list"
   ]
  },
  {
   "cell_type": "code",
   "execution_count": 7,
   "id": "79090295",
   "metadata": {},
   "outputs": [
    {
     "name": "stdout",
     "output_type": "stream",
     "text": [
      "Fold 1 - Accuracy: 82.50%, Precision: 65.36%, Recall: 82.11%\n",
      "Fold 2 - Accuracy: 85.50%, Precision: 68.97%, Recall: 86.64%\n",
      "Fold 3 - Accuracy: 86.30%, Precision: 72.21%, Recall: 84.15%\n",
      "Fold 4 - Accuracy: 85.40%, Precision: 72.16%, Recall: 81.97%\n",
      "Fold 5 - Accuracy: 77.50%, Precision: 60.52%, Recall: 76.14%\n",
      "Average Accuracy: 83.44%, Average Precision: 67.84%, Average Recall: 82.20%\n"
     ]
    }
   ],
   "source": [
    "accuracies, precisions, recalls = k_fold_cross_validation(X, y, k=5)\n",
    "avg_accuracy = np.mean(accuracies)\n",
    "avg_precision = np.mean(precisions)\n",
    "avg_recall = np.mean(recalls)\n",
    "\n",
    "print(f\"Average Accuracy: {avg_accuracy*100:.2f}%, Average Precision: {avg_precision*100:.2f}%, Average Recall: {avg_recall*100:.2f}%\")\n"
   ]
  },
  {
   "cell_type": "code",
   "execution_count": null,
   "id": "bb262bb2",
   "metadata": {},
   "outputs": [],
   "source": []
  },
  {
   "cell_type": "code",
   "execution_count": null,
   "id": "b615849d",
   "metadata": {},
   "outputs": [],
   "source": []
  }
 ],
 "metadata": {
  "kernelspec": {
   "display_name": "Python 3 (ipykernel)",
   "language": "python",
   "name": "python3"
  },
  "language_info": {
   "codemirror_mode": {
    "name": "ipython",
    "version": 3
   },
   "file_extension": ".py",
   "mimetype": "text/x-python",
   "name": "python",
   "nbconvert_exporter": "python",
   "pygments_lexer": "ipython3",
   "version": "3.9.7"
  }
 },
 "nbformat": 4,
 "nbformat_minor": 5
}
