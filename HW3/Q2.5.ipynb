{
 "cells": [
  {
   "cell_type": "code",
   "execution_count": 1,
   "id": "d8e02ad2",
   "metadata": {},
   "outputs": [],
   "source": [
    "import numpy as np\n",
    "import pandas as pd\n",
    "import matplotlib.pyplot as plt"
   ]
  },
  {
   "cell_type": "code",
   "execution_count": 2,
   "id": "7e15441f",
   "metadata": {},
   "outputs": [],
   "source": [
    "data_email = pd.read_csv('hw3Data/emails.csv', header=0).values[:,1:].astype(np.int32)"
   ]
  },
  {
   "cell_type": "code",
   "execution_count": 3,
   "id": "7b6d7aa6",
   "metadata": {},
   "outputs": [],
   "source": [
    "def euclidean_distances(train_data, test_instance):\n",
    "    return np.sqrt(np.sum((train_data - test_instance) ** 2, axis=1))\n",
    "\n",
    "def kNN(train_data, train_label, test_data, k):\n",
    "    distances = euclidean_distances(train_data, test_data)\n",
    "    k_nearest_indices = distances.argsort()[:k]\n",
    "    k_nearest_labels = train_label[k_nearest_indices]\n",
    "\n",
    "    count_ones = np.sum(k_nearest_labels == 1)\n",
    "    count_zeros = k - count_ones\n",
    "\n",
    "    predicted_label = 1 if count_ones > count_zeros else 0\n",
    "    return predicted_label\n",
    "\n",
    "def accuracy(y_true, y_pred):\n",
    "    return np.sum(y_true == y_pred) / len(y_true)"
   ]
  },
  {
   "cell_type": "code",
   "execution_count": 4,
   "id": "cec76ce2",
   "metadata": {},
   "outputs": [
    {
     "name": "stdout",
     "output_type": "stream",
     "text": [
      "kNN Accuracy: 78.00%\n"
     ]
    }
   ],
   "source": [
    "X = data_email[:,:-1]\n",
    "y = data_email[:,-1]\n",
    "\n",
    "split = 4000\n",
    "X_train, y_train = X[:split,:], y[:split]\n",
    "X_test, y_test = X[split:,:], y[split:] \n",
    "\n",
    "y_pred_knn = []\n",
    "correct_predictions = 0\n",
    "for i in range(len(X_test)):\n",
    "    test_instance = X_test[i]\n",
    "    prediction = kNN(X_train, y_train, test_instance, 5)\n",
    "    if prediction == y_test[i]:\n",
    "        correct_predictions += 1\n",
    "    y_pred_knn.append(prediction)\n",
    "\n",
    "accuracy_knn = correct_predictions / len(X_test)        \n",
    "print(f\"kNN Accuracy: {accuracy_knn*100:.2f}%\")"
   ]
  },
  {
   "cell_type": "code",
   "execution_count": 5,
   "id": "bf04746b",
   "metadata": {},
   "outputs": [],
   "source": [
    "def sigmoid(z):\n",
    "    return 1 / (1 + np.exp(-z))\n",
    "\n",
    "def gradient_descent(X, y, theta, alpha, epochs):\n",
    "    m = len(y)\n",
    "    for _ in range(epochs):\n",
    "        h = sigmoid(X @ theta)\n",
    "        gradient = 1/m * X.T @ (h - y)\n",
    "        theta = theta - alpha * gradient\n",
    "    return theta\n",
    "\n",
    "def predict(X, theta):\n",
    "    return sigmoid(X @ theta) >= 0.5\n",
    "\n",
    "def accuracy(y_true, y_pred):\n",
    "    accuracy = np.sum(y_true == y_pred) / len(y_true)\n",
    "    return accuracy"
   ]
  },
  {
   "cell_type": "code",
   "execution_count": 6,
   "id": "af4b3dda",
   "metadata": {},
   "outputs": [
    {
     "name": "stdout",
     "output_type": "stream",
     "text": [
      "Logistic Regression Accuracy: 84.90%\n"
     ]
    }
   ],
   "source": [
    "X = data_email[:,:-1]\n",
    "y = data_email[:,-1]\n",
    "X = np.hstack((np.ones((X.shape[0], 1)), X))\n",
    "\n",
    "theta_init = np.zeros(X.shape[1])\n",
    "\n",
    "alpha = 0.001\n",
    "epochs = 1000\n",
    "\n",
    "split = 4000\n",
    "X_train, y_train = X[:split,:], y[:split]\n",
    "X_test, y_test = X[split:,:], y[split:] \n",
    "    \n",
    "theta = gradient_descent(X_train, y_train, theta_init, alpha, epochs)\n",
    "y_pred_lr  = predict(X_test, theta)\n",
    "\n",
    "accuracy_lr = accuracy(y_test, y_pred_lr)\n",
    "\n",
    "print(f\"Logistic Regression Accuracy: {accuracy_lr*100:.2f}%\")"
   ]
  },
  {
   "cell_type": "code",
   "execution_count": 7,
   "id": "cbd6c599",
   "metadata": {},
   "outputs": [],
   "source": [
    "def kNN_probs(X_train, y_train, X_test, k):\n",
    "    distances = np.array([np.linalg.norm(X_train - x, axis=1) for x in X_test])\n",
    "    k_indices = np.argsort(distances, axis=1)[:, :k]\n",
    "    k_labels = np.array([[y_train[i] for i in idx] for idx in k_indices])\n",
    "    return np.mean(k_labels, axis=1)\n",
    "\n",
    "def roc_curve(y_true, y_scores):\n",
    "    thresholds = np.linspace(0, 1, 100)\n",
    "    TPRs = []\n",
    "    FPRs = []\n",
    "    \n",
    "    for thresh in thresholds:\n",
    "        y_pred = (y_scores >= thresh).astype(int)\n",
    "        TP = np.sum((y_true == 1) & (y_pred == 1))\n",
    "        FP = np.sum((y_true == 0) & (y_pred == 1))\n",
    "        TN = np.sum((y_true == 0) & (y_pred == 0))\n",
    "        FN = np.sum((y_true == 1) & (y_pred == 0))\n",
    "        \n",
    "        TPR = TP / (TP + FN)\n",
    "        FPR = FP / (FP + TN)\n",
    "        TPRs.append(TPR)\n",
    "        FPRs.append(FPR)\n",
    "    \n",
    "    return FPRs, TPRs"
   ]
  },
  {
   "cell_type": "code",
   "execution_count": 9,
   "id": "08c1f117",
   "metadata": {},
   "outputs": [],
   "source": [
    "lr_probs = sigmoid(X_test @ theta)\n",
    "knn_probs = kNN_probs(X_train, y_train, X_test, 5)\n",
    "\n",
    "FPR_lr, TPR_lr = roc_curve(y_test, lr_probs)\n",
    "FPR_knn, TPR_knn = roc_curve(y_test, knn_probs)"
   ]
  },
  {
   "cell_type": "code",
   "execution_count": 10,
   "id": "b27b7bb9",
   "metadata": {},
   "outputs": [
    {
     "data": {
      "image/png": "[encoded data removed]",
      "text/plain": [
       "<Figure size 576x432 with 1 Axes>"
      ]
     },
     "metadata": {
      "needs_background": "light"
     },
     "output_type": "display_data"
    }
   ],
   "source": [
    "fig3 = plt.figure(figsize=(8, 6))\n",
    "plt.plot(FPR_lr, TPR_lr, label='Logistic Regression', color='blue')\n",
    "plt.plot(FPR_knn, TPR_knn, label='kNN', color='green')\n",
    "plt.plot([0, 1], [0, 1], 'r--')\n",
    "plt.xlabel('False Positive Rate (Positive label: 1)')\n",
    "plt.ylabel('True Positive Rate (Positive label: 1)')\n",
    "plt.title('ROC Curve')\n",
    "plt.legend()\n",
    "plt.grid(True)\n",
    "plt.show()\n",
    "fig3.savefig('P2.5_ROC_curve.png')"
   ]
  },
  {
   "cell_type": "code",
   "execution_count": null,
   "id": "8a9e7da9",
   "metadata": {},
   "outputs": [],
   "source": []
  }
 ],
 "metadata": {
  "kernelspec": {
   "display_name": "Python 3 (ipykernel)",
   "language": "python",
   "name": "python3"
  },
  "language_info": {
   "codemirror_mode": {
    "name": "ipython",
    "version": 3
   },
   "file_extension": ".py",
   "mimetype": "text/x-python",
   "name": "python",
   "nbconvert_exporter": "python",
   "pygments_lexer": "ipython3",
   "version": "3.9.7"
  }
 },
 "nbformat": 4,
 "nbformat_minor": 5
}
